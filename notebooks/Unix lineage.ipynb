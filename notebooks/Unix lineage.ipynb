{
 "cells": [
  {
   "cell_type": "markdown",
   "id": "0908c860",
   "metadata": {},
   "source": [
    "# Unix lineage\n",
    "One of the stock examples of [graphviz](https://graphviz.readthedocs.io/en/stable/) is the [Unix lineage](https://graphviz.readthedocs.io/en/stable/examples.html#unix-py). In this notebook we'll be visualizing that graph using DAGVIZ.\n",
    "\n",
    "## Construct the graph"
   ]
  },
  {
   "cell_type": "code",
   "execution_count": 5,
   "id": "227d6208",
   "metadata": {},
   "outputs": [],
   "source": [
    "import networkx as nx\n",
    "from dagviz import Dagre, Metro"
   ]
  },
  {
   "cell_type": "code",
   "execution_count": 6,
   "id": "f0f495d4",
   "metadata": {},
   "outputs": [],
   "source": [
    "u = nx.DiGraph()\n",
    "u.add_edge('5th Edition', '6th Edition')\n",
    "u.add_edge('5th Edition', 'PWB 1.0')\n",
    "u.add_edge('6th Edition', 'LSX')\n",
    "u.add_edge('6th Edition', '1 BSD')\n",
    "u.add_edge('6th Edition', 'Mini Unix')\n",
    "u.add_edge('6th Edition', 'Wollongong')\n",
    "u.add_edge('6th Edition', 'Interdata')\n",
    "u.add_edge('Interdata', 'Unix/TS 3.0')\n",
    "u.add_edge('Interdata', 'PWB 2.0')\n",
    "u.add_edge('Interdata', '7th Edition')\n",
    "u.add_edge('7th Edition', '8th Edition')\n",
    "u.add_edge('7th Edition', '32V')\n",
    "u.add_edge('7th Edition', 'V7M')\n",
    "u.add_edge('7th Edition', 'Ultrix-11')\n",
    "u.add_edge('7th Edition', 'Xenix')\n",
    "u.add_edge('7th Edition', 'UniPlus+')\n",
    "u.add_edge('V7M', 'Ultrix-11')\n",
    "u.add_edge('8th Edition', '9th Edition')\n",
    "u.add_edge('1 BSD', '2 BSD')\n",
    "u.add_edge('2 BSD', '2.8 BSD')\n",
    "u.add_edge('2.8 BSD', 'Ultrix-11')\n",
    "u.add_edge('2.8 BSD', '2.9 BSD')\n",
    "u.add_edge('32V', '3 BSD')\n",
    "u.add_edge('3 BSD', '4 BSD')\n",
    "u.add_edge('4 BSD', '4.1 BSD')\n",
    "u.add_edge('4.1 BSD', '4.2 BSD')\n",
    "u.add_edge('4.1 BSD', '2.8 BSD')\n",
    "u.add_edge('4.1 BSD', '8th Edition')\n",
    "u.add_edge('4.2 BSD', '4.3 BSD')\n",
    "u.add_edge('4.2 BSD', 'Ultrix-32')\n",
    "u.add_edge('PWB 1.0', 'PWB 1.2')\n",
    "u.add_edge('PWB 1.0', 'USG 1.0')\n",
    "u.add_edge('PWB 1.2', 'PWB 2.0')\n",
    "u.add_edge('USG 1.0', 'CB Unix 1')\n",
    "u.add_edge('USG 1.0', 'USG 2.0')\n",
    "u.add_edge('CB Unix 1', 'CB Unix 2')\n",
    "u.add_edge('CB Unix 2', 'CB Unix 3')\n",
    "u.add_edge('CB Unix 3', 'Unix/TS++')\n",
    "u.add_edge('CB Unix 3', 'PDP-11 Sys V')\n",
    "u.add_edge('USG 2.0', 'USG 3.0')\n",
    "u.add_edge('USG 3.0', 'Unix/TS 3.0')\n",
    "u.add_edge('PWB 2.0', 'Unix/TS 3.0')\n",
    "u.add_edge('Unix/TS 1.0', 'Unix/TS 3.0')\n",
    "u.add_edge('Unix/TS 3.0', 'TS 4.0')\n",
    "u.add_edge('Unix/TS++', 'TS 4.0')\n",
    "u.add_edge('CB Unix 3', 'TS 4.0')\n",
    "u.add_edge('TS 4.0', 'System V.0')\n",
    "u.add_edge('System V.0', 'System V.2')\n",
    "u.add_edge('System V.2', 'System V.3')"
   ]
  },
  {
   "cell_type": "markdown",
   "id": "3a96f4ba",
   "metadata": {},
   "source": [
    "## Visualize with Dagre"
   ]
  },
  {
   "cell_type": "code",
   "execution_count": 7,
   "id": "e908d179",
   "metadata": {
    "scrolled": true
   },
   "outputs": [
    {
     "data": {
      "application/javascript": [
       "\n",
       "element.html('<style id=\"css\">text {  font-weight: 300;  font-family: sans-serif;  font-size: 14px;}.node rect {  stroke: #999;  fill: #fff;  stroke-width: 1.5px;}.edgePath path {  stroke: #333;  stroke-width: 1.5px;}</style>');\n",
       "require.config({\n",
       "    paths: {\n",
       "        d3: 'https://d3js.org/d3.v5.min',\n",
       "        dagreD3: 'https://cdnjs.cloudflare.com/ajax/libs/dagre-d3/0.6.4/dagre-d3.min'\n",
       "    }\n",
       "});\n",
       "require([\"d3\", \"dagreD3\"], function(d3, dag) {\n",
       "    let g = new dag.graphlib.Graph().setGraph({});\n",
       "g.setNode(\"5th Edition\", { \"label\": \"5th Edition\"});\n",
       "g.setNode(\"6th Edition\", { \"label\": \"6th Edition\"});\n",
       "g.setNode(\"PWB 1.0\", { \"label\": \"PWB 1.0\"});\n",
       "g.setNode(\"LSX\", { \"label\": \"LSX\"});\n",
       "g.setNode(\"1 BSD\", { \"label\": \"1 BSD\"});\n",
       "g.setNode(\"Mini Unix\", { \"label\": \"Mini Unix\"});\n",
       "g.setNode(\"Wollongong\", { \"label\": \"Wollongong\"});\n",
       "g.setNode(\"Interdata\", { \"label\": \"Interdata\"});\n",
       "g.setNode(\"Unix/TS 3.0\", { \"label\": \"Unix/TS 3.0\"});\n",
       "g.setNode(\"PWB 2.0\", { \"label\": \"PWB 2.0\"});\n",
       "g.setNode(\"7th Edition\", { \"label\": \"7th Edition\"});\n",
       "g.setNode(\"8th Edition\", { \"label\": \"8th Edition\"});\n",
       "g.setNode(\"32V\", { \"label\": \"32V\"});\n",
       "g.setNode(\"V7M\", { \"label\": \"V7M\"});\n",
       "g.setNode(\"Ultrix-11\", { \"label\": \"Ultrix-11\"});\n",
       "g.setNode(\"Xenix\", { \"label\": \"Xenix\"});\n",
       "g.setNode(\"UniPlus+\", { \"label\": \"UniPlus+\"});\n",
       "g.setNode(\"9th Edition\", { \"label\": \"9th Edition\"});\n",
       "g.setNode(\"2 BSD\", { \"label\": \"2 BSD\"});\n",
       "g.setNode(\"2.8 BSD\", { \"label\": \"2.8 BSD\"});\n",
       "g.setNode(\"2.9 BSD\", { \"label\": \"2.9 BSD\"});\n",
       "g.setNode(\"3 BSD\", { \"label\": \"3 BSD\"});\n",
       "g.setNode(\"4 BSD\", { \"label\": \"4 BSD\"});\n",
       "g.setNode(\"4.1 BSD\", { \"label\": \"4.1 BSD\"});\n",
       "g.setNode(\"4.2 BSD\", { \"label\": \"4.2 BSD\"});\n",
       "g.setNode(\"4.3 BSD\", { \"label\": \"4.3 BSD\"});\n",
       "g.setNode(\"Ultrix-32\", { \"label\": \"Ultrix-32\"});\n",
       "g.setNode(\"PWB 1.2\", { \"label\": \"PWB 1.2\"});\n",
       "g.setNode(\"USG 1.0\", { \"label\": \"USG 1.0\"});\n",
       "g.setNode(\"CB Unix 1\", { \"label\": \"CB Unix 1\"});\n",
       "g.setNode(\"USG 2.0\", { \"label\": \"USG 2.0\"});\n",
       "g.setNode(\"CB Unix 2\", { \"label\": \"CB Unix 2\"});\n",
       "g.setNode(\"CB Unix 3\", { \"label\": \"CB Unix 3\"});\n",
       "g.setNode(\"Unix/TS++\", { \"label\": \"Unix/TS++\"});\n",
       "g.setNode(\"PDP-11 Sys V\", { \"label\": \"PDP-11 Sys V\"});\n",
       "g.setNode(\"USG 3.0\", { \"label\": \"USG 3.0\"});\n",
       "g.setNode(\"Unix/TS 1.0\", { \"label\": \"Unix/TS 1.0\"});\n",
       "g.setNode(\"TS 4.0\", { \"label\": \"TS 4.0\"});\n",
       "g.setNode(\"System V.0\", { \"label\": \"System V.0\"});\n",
       "g.setNode(\"System V.2\", { \"label\": \"System V.2\"});\n",
       "g.setNode(\"System V.3\", { \"label\": \"System V.3\"});\n",
       "g.setEdge(\"5th Edition\",\"6th Edition\", {\"label\": \"\"});\n",
       "g.setEdge(\"5th Edition\",\"PWB 1.0\", {\"label\": \"\"});\n",
       "g.setEdge(\"6th Edition\",\"LSX\", {\"label\": \"\"});\n",
       "g.setEdge(\"6th Edition\",\"1 BSD\", {\"label\": \"\"});\n",
       "g.setEdge(\"6th Edition\",\"Mini Unix\", {\"label\": \"\"});\n",
       "g.setEdge(\"6th Edition\",\"Wollongong\", {\"label\": \"\"});\n",
       "g.setEdge(\"6th Edition\",\"Interdata\", {\"label\": \"\"});\n",
       "g.setEdge(\"PWB 1.0\",\"PWB 1.2\", {\"label\": \"\"});\n",
       "g.setEdge(\"PWB 1.0\",\"USG 1.0\", {\"label\": \"\"});\n",
       "g.setEdge(\"1 BSD\",\"2 BSD\", {\"label\": \"\"});\n",
       "g.setEdge(\"Interdata\",\"Unix/TS 3.0\", {\"label\": \"\"});\n",
       "g.setEdge(\"Interdata\",\"PWB 2.0\", {\"label\": \"\"});\n",
       "g.setEdge(\"Interdata\",\"7th Edition\", {\"label\": \"\"});\n",
       "g.setEdge(\"Unix/TS 3.0\",\"TS 4.0\", {\"label\": \"\"});\n",
       "g.setEdge(\"PWB 2.0\",\"Unix/TS 3.0\", {\"label\": \"\"});\n",
       "g.setEdge(\"7th Edition\",\"8th Edition\", {\"label\": \"\"});\n",
       "g.setEdge(\"7th Edition\",\"32V\", {\"label\": \"\"});\n",
       "g.setEdge(\"7th Edition\",\"V7M\", {\"label\": \"\"});\n",
       "g.setEdge(\"7th Edition\",\"Ultrix-11\", {\"label\": \"\"});\n",
       "g.setEdge(\"7th Edition\",\"Xenix\", {\"label\": \"\"});\n",
       "g.setEdge(\"7th Edition\",\"UniPlus+\", {\"label\": \"\"});\n",
       "g.setEdge(\"8th Edition\",\"9th Edition\", {\"label\": \"\"});\n",
       "g.setEdge(\"32V\",\"3 BSD\", {\"label\": \"\"});\n",
       "g.setEdge(\"V7M\",\"Ultrix-11\", {\"label\": \"\"});\n",
       "g.setEdge(\"2 BSD\",\"2.8 BSD\", {\"label\": \"\"});\n",
       "g.setEdge(\"2.8 BSD\",\"Ultrix-11\", {\"label\": \"\"});\n",
       "g.setEdge(\"2.8 BSD\",\"2.9 BSD\", {\"label\": \"\"});\n",
       "g.setEdge(\"3 BSD\",\"4 BSD\", {\"label\": \"\"});\n",
       "g.setEdge(\"4 BSD\",\"4.1 BSD\", {\"label\": \"\"});\n",
       "g.setEdge(\"4.1 BSD\",\"4.2 BSD\", {\"label\": \"\"});\n",
       "g.setEdge(\"4.1 BSD\",\"2.8 BSD\", {\"label\": \"\"});\n",
       "g.setEdge(\"4.1 BSD\",\"8th Edition\", {\"label\": \"\"});\n",
       "g.setEdge(\"4.2 BSD\",\"4.3 BSD\", {\"label\": \"\"});\n",
       "g.setEdge(\"4.2 BSD\",\"Ultrix-32\", {\"label\": \"\"});\n",
       "g.setEdge(\"PWB 1.2\",\"PWB 2.0\", {\"label\": \"\"});\n",
       "g.setEdge(\"USG 1.0\",\"CB Unix 1\", {\"label\": \"\"});\n",
       "g.setEdge(\"USG 1.0\",\"USG 2.0\", {\"label\": \"\"});\n",
       "g.setEdge(\"CB Unix 1\",\"CB Unix 2\", {\"label\": \"\"});\n",
       "g.setEdge(\"USG 2.0\",\"USG 3.0\", {\"label\": \"\"});\n",
       "g.setEdge(\"CB Unix 2\",\"CB Unix 3\", {\"label\": \"\"});\n",
       "g.setEdge(\"CB Unix 3\",\"Unix/TS++\", {\"label\": \"\"});\n",
       "g.setEdge(\"CB Unix 3\",\"PDP-11 Sys V\", {\"label\": \"\"});\n",
       "g.setEdge(\"CB Unix 3\",\"TS 4.0\", {\"label\": \"\"});\n",
       "g.setEdge(\"Unix/TS++\",\"TS 4.0\", {\"label\": \"\"});\n",
       "g.setEdge(\"USG 3.0\",\"Unix/TS 3.0\", {\"label\": \"\"});\n",
       "g.setEdge(\"Unix/TS 1.0\",\"Unix/TS 3.0\", {\"label\": \"\"});\n",
       "g.setEdge(\"TS 4.0\",\"System V.0\", {\"label\": \"\"});\n",
       "g.setEdge(\"System V.0\",\"System V.2\", {\"label\": \"\"});\n",
       "g.setEdge(\"System V.2\",\"System V.3\", {\"label\": \"\"});\n",
       "    let elem = d3.select(element.get(0))\n",
       "    let svg = elem.append(\"svg\");\n",
       "    let inner = svg.append(\"g\")\n",
       "    let render = new dag.render();\n",
       "    render(inner, g);\n",
       "    // Set up zoom support\n",
       "    var zoom = d3.zoom().on(\"zoom\", function() {\n",
       "        inner.attr(\"transform\", d3.event.transform);\n",
       "    });\n",
       "    svg.call(zoom);\n",
       "    // Realign the graph, edges may have x<0\n",
       "    svg.call(zoom.transform, d3.zoomIdentity.translate(g.graph().width/4.0, 20).scale(1));\n",
       "    svg.attr(\"height\", g.graph().height + 40);\n",
       "    svg.attr(\"width\", g.graph().width*1.5 + 40);\n",
       "});\n"
      ],
      "text/plain": [
       "<dagviz.dagre.Dagre at 0x1e2a3dc7100>"
      ]
     },
     "execution_count": 7,
     "metadata": {},
     "output_type": "execute_result"
    }
   ],
   "source": [
    "Dagre(u)"
   ]
  },
  {
   "cell_type": "markdown",
   "id": "38d44f5d",
   "metadata": {},
   "source": [
    "## Visualize with Metro"
   ]
  },
  {
   "cell_type": "code",
   "execution_count": 8,
   "id": "f0ab9fbd",
   "metadata": {
    "scrolled": true
   },
   "outputs": [
    {
     "data": {
      "text/html": [
       "<svg baseProfile=\"full\" height=\"100%\" version=\"1.1\" viewBox=\"25.0,5.0,525.0,820.0\" width=\"100%\" xmlns=\"http://www.w3.org/2000/svg\" xmlns:ev=\"http://www.w3.org/2001/xml-events\" xmlns:xlink=\"http://www.w3.org/1999/xlink\"><defs /><g><line stroke=\"lightgrey\" stroke-dasharray=\"2\" x1=\"270.0\" x2=\"269.0\" y1=\"15.0\" y2=\"15.0\" /><line stroke=\"lightgrey\" stroke-dasharray=\"2\" x1=\"250.0\" x2=\"269.0\" y1=\"35.0\" y2=\"35.0\" /><line stroke=\"lightgrey\" stroke-dasharray=\"2\" x1=\"230.0\" x2=\"269.0\" y1=\"55.0\" y2=\"55.0\" /><line stroke=\"lightgrey\" stroke-dasharray=\"2\" x1=\"210.0\" x2=\"269.0\" y1=\"75.0\" y2=\"75.0\" /><line stroke=\"lightgrey\" stroke-dasharray=\"2\" x1=\"190.0\" x2=\"269.0\" y1=\"95.0\" y2=\"95.0\" /><line stroke=\"lightgrey\" stroke-dasharray=\"2\" x1=\"190.0\" x2=\"269.0\" y1=\"115.0\" y2=\"115.0\" /><line stroke=\"lightgrey\" stroke-dasharray=\"2\" x1=\"210.0\" x2=\"269.0\" y1=\"135.0\" y2=\"135.0\" /><line stroke=\"lightgrey\" stroke-dasharray=\"2\" x1=\"210.0\" x2=\"269.0\" y1=\"155.0\" y2=\"155.0\" /><line stroke=\"lightgrey\" stroke-dasharray=\"2\" x1=\"210.0\" x2=\"269.0\" y1=\"175.0\" y2=\"175.0\" /><line stroke=\"lightgrey\" stroke-dasharray=\"2\" x1=\"170.0\" x2=\"269.0\" y1=\"195.0\" y2=\"195.0\" /><line stroke=\"lightgrey\" stroke-dasharray=\"2\" x1=\"170.0\" x2=\"269.0\" y1=\"215.0\" y2=\"215.0\" /><line stroke=\"lightgrey\" stroke-dasharray=\"2\" x1=\"230.0\" x2=\"269.0\" y1=\"235.0\" y2=\"235.0\" /><line stroke=\"lightgrey\" stroke-dasharray=\"2\" x1=\"250.0\" x2=\"269.0\" y1=\"255.0\" y2=\"255.0\" /><line stroke=\"lightgrey\" stroke-dasharray=\"2\" x1=\"150.0\" x2=\"269.0\" y1=\"275.0\" y2=\"275.0\" /><line stroke=\"lightgrey\" stroke-dasharray=\"2\" x1=\"130.0\" x2=\"269.0\" y1=\"295.0\" y2=\"295.0\" /><line stroke=\"lightgrey\" stroke-dasharray=\"2\" x1=\"110.0\" x2=\"269.0\" y1=\"315.0\" y2=\"315.0\" /><line stroke=\"lightgrey\" stroke-dasharray=\"2\" x1=\"110.0\" x2=\"269.0\" y1=\"335.0\" y2=\"335.0\" /><line stroke=\"lightgrey\" stroke-dasharray=\"2\" x1=\"110.0\" x2=\"269.0\" y1=\"355.0\" y2=\"355.0\" /><line stroke=\"lightgrey\" stroke-dasharray=\"2\" x1=\"90.0\" x2=\"269.0\" y1=\"375.0\" y2=\"375.0\" /><line stroke=\"lightgrey\" stroke-dasharray=\"2\" x1=\"90.0\" x2=\"269.0\" y1=\"395.0\" y2=\"395.0\" /><line stroke=\"lightgrey\" stroke-dasharray=\"2\" x1=\"90.0\" x2=\"269.0\" y1=\"415.0\" y2=\"415.0\" /><line stroke=\"lightgrey\" stroke-dasharray=\"2\" x1=\"90.0\" x2=\"269.0\" y1=\"435.0\" y2=\"435.0\" /><line stroke=\"lightgrey\" stroke-dasharray=\"2\" x1=\"70.0\" x2=\"269.0\" y1=\"455.0\" y2=\"455.0\" /><line stroke=\"lightgrey\" stroke-dasharray=\"2\" x1=\"70.0\" x2=\"269.0\" y1=\"475.0\" y2=\"475.0\" /><line stroke=\"lightgrey\" stroke-dasharray=\"2\" x1=\"70.0\" x2=\"269.0\" y1=\"495.0\" y2=\"495.0\" /><line stroke=\"lightgrey\" stroke-dasharray=\"2\" x1=\"50.0\" x2=\"269.0\" y1=\"515.0\" y2=\"515.0\" /><line stroke=\"lightgrey\" stroke-dasharray=\"2\" x1=\"70.0\" x2=\"269.0\" y1=\"535.0\" y2=\"535.0\" /><line stroke=\"lightgrey\" stroke-dasharray=\"2\" x1=\"230.0\" x2=\"269.0\" y1=\"555.0\" y2=\"555.0\" /><line stroke=\"lightgrey\" stroke-dasharray=\"2\" x1=\"270.0\" x2=\"269.0\" y1=\"575.0\" y2=\"575.0\" /><line stroke=\"lightgrey\" stroke-dasharray=\"2\" x1=\"210.0\" x2=\"269.0\" y1=\"595.0\" y2=\"595.0\" /><line stroke=\"lightgrey\" stroke-dasharray=\"2\" x1=\"210.0\" x2=\"249.0\" y1=\"615.0\" y2=\"615.0\" /><line stroke=\"lightgrey\" stroke-dasharray=\"2\" x1=\"210.0\" x2=\"249.0\" y1=\"635.0\" y2=\"635.0\" /><line stroke=\"lightgrey\" stroke-dasharray=\"2\" x1=\"210.0\" x2=\"249.0\" y1=\"655.0\" y2=\"655.0\" /><line stroke=\"lightgrey\" stroke-dasharray=\"2\" x1=\"210.0\" x2=\"249.0\" y1=\"675.0\" y2=\"675.0\" /><line stroke=\"lightgrey\" stroke-dasharray=\"2\" x1=\"210.0\" x2=\"249.0\" y1=\"695.0\" y2=\"695.0\" /><line stroke=\"lightgrey\" stroke-dasharray=\"2\" x1=\"210.0\" x2=\"249.0\" y1=\"715.0\" y2=\"715.0\" /><line stroke=\"lightgrey\" stroke-dasharray=\"2\" x1=\"210.0\" x2=\"249.0\" y1=\"735.0\" y2=\"735.0\" /><line stroke=\"lightgrey\" stroke-dasharray=\"2\" x1=\"90.0\" x2=\"249.0\" y1=\"755.0\" y2=\"755.0\" /><line stroke=\"lightgrey\" stroke-dasharray=\"2\" x1=\"210.0\" x2=\"249.0\" y1=\"775.0\" y2=\"775.0\" /><line stroke=\"lightgrey\" stroke-dasharray=\"2\" x1=\"90.0\" x2=\"249.0\" y1=\"795.0\" y2=\"795.0\" /><line stroke=\"lightgrey\" stroke-dasharray=\"2\" x1=\"250.0\" x2=\"249.0\" y1=\"815.0\" y2=\"815.0\" /></g><g><line stroke=\"#5353c6\" stroke-width=\"2.0\" x1=\"175.0\" x2=\"175.0\" y1=\"95.0\" y2=\"115.0\" /><line stroke=\"#53c6c6\" stroke-width=\"2.0\" x1=\"195.0\" x2=\"195.0\" y1=\"75.0\" y2=\"135.0\" /><line stroke=\"#c65353\" stroke-width=\"2.0\" x1=\"195.0\" x2=\"195.0\" y1=\"135.0\" y2=\"155.0\" /><line stroke=\"#d98c8c\" stroke-width=\"2.0\" x1=\"195.0\" x2=\"195.0\" y1=\"155.0\" y2=\"175.0\" /><line stroke=\"#53c653\" stroke-width=\"2.0\" x1=\"215.0\" x2=\"215.0\" y1=\"55.0\" y2=\"235.0\" /><line stroke=\"#c6c653\" stroke-width=\"2.0\" x1=\"235.0\" x2=\"235.0\" y1=\"35.0\" y2=\"255.0\" /><line stroke=\"#333399\" stroke-width=\"2.0\" x1=\"75.0\" x2=\"75.0\" y1=\"375.0\" y2=\"395.0\" /><line stroke=\"#993399\" stroke-width=\"2.0\" x1=\"75.0\" x2=\"75.0\" y1=\"395.0\" y2=\"415.0\" /><line stroke=\"#993333\" stroke-width=\"2.0\" x1=\"75.0\" x2=\"75.0\" y1=\"415.0\" y2=\"435.0\" /><line stroke=\"#c6c653\" stroke-width=\"2.0\" x1=\"55.0\" x2=\"55.0\" y1=\"455.0\" y2=\"475.0\" /><line stroke=\"#53c6c6\" stroke-width=\"2.0\" x1=\"55.0\" x2=\"55.0\" y1=\"495.0\" y2=\"535.0\" /><line stroke=\"#8c8cd9\" stroke-width=\"2.0\" x1=\"215.0\" x2=\"215.0\" y1=\"235.0\" y2=\"555.0\" /><line stroke=\"#d98c8c\" stroke-width=\"2.0\" x1=\"135.0\" x2=\"135.0\" y1=\"275.0\" y2=\"560.0\" /><line stroke=\"#c653c6\" stroke-width=\"2.0\" x1=\"175.0\" x2=\"175.0\" y1=\"115.0\" y2=\"560.0\" /><line stroke=\"#c65353\" stroke-width=\"2.0\" x1=\"215.0\" x2=\"215.0\" y1=\"555.0\" y2=\"560.0\" /><line stroke=\"#c65353\" stroke-width=\"2.0\" x1=\"255.0\" x2=\"255.0\" y1=\"15.0\" y2=\"575.0\" /><line stroke=\"#8cd9d9\" stroke-width=\"2.0\" x1=\"155.0\" x2=\"155.0\" y1=\"215.0\" y2=\"580.0\" /><line stroke=\"#d9d98c\" stroke-width=\"2.0\" x1=\"195.0\" x2=\"195.0\" y1=\"175.0\" y2=\"595.0\" /><line stroke=\"#d98c8c\" stroke-width=\"2.0\" x1=\"255.0\" x2=\"255.0\" y1=\"575.0\" y2=\"580.0\" /><line stroke=\"#d9d98c\" stroke-width=\"2.0\" x1=\"195.0\" x2=\"195.0\" y1=\"595.0\" y2=\"615.0\" /><line stroke=\"#8cd98c\" stroke-width=\"2.0\" x1=\"195.0\" x2=\"195.0\" y1=\"615.0\" y2=\"635.0\" /><line stroke=\"#8cd9d9\" stroke-width=\"2.0\" x1=\"195.0\" x2=\"195.0\" y1=\"635.0\" y2=\"655.0\" /><line stroke=\"#993333\" stroke-width=\"2.0\" x1=\"195.0\" x2=\"195.0\" y1=\"715.0\" y2=\"735.0\" /><line stroke=\"#c65353\" stroke-width=\"2.0\" x1=\"75.0\" x2=\"75.0\" y1=\"435.0\" y2=\"755.0\" /><line stroke=\"#999933\" stroke-width=\"2.0\" x1=\"195.0\" x2=\"195.0\" y1=\"735.0\" y2=\"740.0\" /><line stroke=\"#339933\" stroke-width=\"2.0\" x1=\"75.0\" x2=\"75.0\" y1=\"755.0\" y2=\"795.0\" /><line stroke=\"#339999\" stroke-width=\"2.0\" x1=\"95.0\" x2=\"95.0\" y1=\"355.0\" y2=\"780.0\" /><line stroke=\"#993333\" stroke-width=\"2.0\" x1=\"115.0\" x2=\"115.0\" y1=\"295.0\" y2=\"780.0\" /><line stroke=\"#d98cd9\" stroke-width=\"2.0\" x1=\"235.0\" x2=\"235.0\" y1=\"255.0\" y2=\"815.0\" /></g><g><line stroke=\"white\" stroke-width=\"6.0\" x1=\"215.0\" x2=\"220.0\" y1=\"55.0\" y2=\"55.0\" /><line stroke=\"white\" stroke-width=\"6.0\" x1=\"195.0\" x2=\"200.0\" y1=\"75.0\" y2=\"75.0\" /><line stroke=\"white\" stroke-width=\"6.0\" x1=\"175.0\" x2=\"180.0\" y1=\"95.0\" y2=\"95.0\" /><line stroke=\"white\" stroke-width=\"6.0\" x1=\"155.0\" x2=\"180.0\" y1=\"195.0\" y2=\"195.0\" /><line stroke=\"white\" stroke-width=\"6.0\" x1=\"155.0\" x2=\"180.0\" y1=\"215.0\" y2=\"215.0\" /><line stroke=\"white\" stroke-width=\"6.0\" x1=\"135.0\" x2=\"220.0\" y1=\"275.0\" y2=\"275.0\" /><line stroke=\"white\" stroke-width=\"6.0\" x1=\"115.0\" x2=\"120.0\" y1=\"295.0\" y2=\"295.0\" /><line stroke=\"white\" stroke-width=\"6.0\" x1=\"95.0\" x2=\"100.0\" y1=\"315.0\" y2=\"315.0\" /><line stroke=\"white\" stroke-width=\"6.0\" x1=\"95.0\" x2=\"100.0\" y1=\"335.0\" y2=\"335.0\" /><line stroke=\"white\" stroke-width=\"6.0\" x1=\"95.0\" x2=\"100.0\" y1=\"355.0\" y2=\"355.0\" /><line stroke=\"white\" stroke-width=\"6.0\" x1=\"75.0\" x2=\"100.0\" y1=\"375.0\" y2=\"375.0\" /><line stroke=\"white\" stroke-width=\"6.0\" x1=\"55.0\" x2=\"100.0\" y1=\"455.0\" y2=\"455.0\" /><line stroke=\"white\" stroke-width=\"6.0\" x1=\"55.0\" x2=\"60.0\" y1=\"495.0\" y2=\"495.0\" /><line stroke=\"white\" stroke-width=\"6.0\" x1=\"35.0\" x2=\"40.0\" y1=\"515.0\" y2=\"515.0\" /><line stroke=\"white\" stroke-width=\"6.0\" x1=\"150.0\" x2=\"215.0\" y1=\"555.0\" y2=\"555.0\" /><line stroke=\"white\" stroke-width=\"6.0\" x1=\"150.0\" x2=\"255.0\" y1=\"575.0\" y2=\"575.0\" /><line stroke=\"white\" stroke-width=\"6.0\" x1=\"170.0\" x2=\"195.0\" y1=\"595.0\" y2=\"595.0\" /><line stroke=\"white\" stroke-width=\"6.0\" x1=\"195.0\" x2=\"240.0\" y1=\"595.0\" y2=\"595.0\" /><line stroke=\"white\" stroke-width=\"6.0\" x1=\"195.0\" x2=\"220.0\" y1=\"675.0\" y2=\"675.0\" /><line stroke=\"white\" stroke-width=\"6.0\" x1=\"195.0\" x2=\"220.0\" y1=\"695.0\" y2=\"695.0\" /><line stroke=\"white\" stroke-width=\"6.0\" x1=\"195.0\" x2=\"220.0\" y1=\"715.0\" y2=\"715.0\" /><line stroke=\"white\" stroke-width=\"6.0\" x1=\"75.0\" x2=\"180.0\" y1=\"755.0\" y2=\"755.0\" /><line stroke=\"white\" stroke-width=\"6.0\" x1=\"90.0\" x2=\"195.0\" y1=\"775.0\" y2=\"775.0\" /><line stroke=\"white\" stroke-width=\"6.0\" x1=\"75.0\" x2=\"100.0\" y1=\"795.0\" y2=\"795.0\" /></g><g><path d=\"M 235.0,40.0 a15.0,15.0 0 0,1 -15.0,15.0\" fill=\"none\" stroke=\"#c6c653\" stroke-width=\"2.0\" /><line stroke=\"#c6c653\" stroke-width=\"2.0\" x1=\"215.0\" x2=\"220.0\" y1=\"55.0\" y2=\"55.0\" /><path d=\"M 215.0,60.0 a15.0,15.0 0 0,1 -15.0,15.0\" fill=\"none\" stroke=\"#53c653\" stroke-width=\"2.0\" /><line stroke=\"#53c653\" stroke-width=\"2.0\" x1=\"195.0\" x2=\"200.0\" y1=\"75.0\" y2=\"75.0\" /><path d=\"M 195.0,80.0 a15.0,15.0 0 0,1 -15.0,15.0\" fill=\"none\" stroke=\"#53c6c6\" stroke-width=\"2.0\" /><line stroke=\"#53c6c6\" stroke-width=\"2.0\" x1=\"175.0\" x2=\"180.0\" y1=\"95.0\" y2=\"95.0\" /><path d=\"M 195.0,180.0 a15.0,15.0 0 0,1 -15.0,15.0\" fill=\"none\" stroke=\"#d9d98c\" stroke-width=\"2.0\" /><line stroke=\"#d9d98c\" stroke-width=\"2.0\" x1=\"155.0\" x2=\"180.0\" y1=\"195.0\" y2=\"195.0\" /><path d=\"M 195.0,200.0 a15.0,15.0 0 0,1 -15.0,15.0\" fill=\"none\" stroke=\"#d9d98c\" stroke-width=\"2.0\" /><line stroke=\"#d9d98c\" stroke-width=\"2.0\" x1=\"155.0\" x2=\"180.0\" y1=\"215.0\" y2=\"215.0\" /><path d=\"M 235.0,260.0 a15.0,15.0 0 0,1 -15.0,15.0\" fill=\"none\" stroke=\"#d98cd9\" stroke-width=\"2.0\" /><line stroke=\"#d98cd9\" stroke-width=\"2.0\" x1=\"135.0\" x2=\"220.0\" y1=\"275.0\" y2=\"275.0\" /><path d=\"M 135.0,280.0 a15.0,15.0 0 0,1 -15.0,15.0\" fill=\"none\" stroke=\"#d98c8c\" stroke-width=\"2.0\" /><line stroke=\"#d98c8c\" stroke-width=\"2.0\" x1=\"115.0\" x2=\"120.0\" y1=\"295.0\" y2=\"295.0\" /><path d=\"M 115.0,300.0 a15.0,15.0 0 0,1 -15.0,15.0\" fill=\"none\" stroke=\"#993333\" stroke-width=\"2.0\" /><line stroke=\"#993333\" stroke-width=\"2.0\" x1=\"95.0\" x2=\"100.0\" y1=\"315.0\" y2=\"315.0\" /><path d=\"M 115.0,320.0 a15.0,15.0 0 0,1 -15.0,15.0\" fill=\"none\" stroke=\"#993333\" stroke-width=\"2.0\" /><line stroke=\"#993333\" stroke-width=\"2.0\" x1=\"95.0\" x2=\"100.0\" y1=\"335.0\" y2=\"335.0\" /><path d=\"M 115.0,340.0 a15.0,15.0 0 0,1 -15.0,15.0\" fill=\"none\" stroke=\"#993333\" stroke-width=\"2.0\" /><line stroke=\"#993333\" stroke-width=\"2.0\" x1=\"95.0\" x2=\"100.0\" y1=\"355.0\" y2=\"355.0\" /><path d=\"M 115.0,360.0 a15.0,15.0 0 0,1 -15.0,15.0\" fill=\"none\" stroke=\"#993333\" stroke-width=\"2.0\" /><line stroke=\"#993333\" stroke-width=\"2.0\" x1=\"75.0\" x2=\"100.0\" y1=\"375.0\" y2=\"375.0\" /><path d=\"M 75.0,440.0 a15.0,15.0 0 0,1 -15.0,15.0\" fill=\"none\" stroke=\"#c65353\" stroke-width=\"2.0\" /><path d=\"M 115.0,440.0 a15.0,15.0 0 0,1 -15.0,15.0\" fill=\"none\" stroke=\"#993333\" stroke-width=\"2.0\" /><line stroke=\"#993333\" stroke-width=\"2.0\" x1=\"55.0\" x2=\"100.0\" y1=\"455.0\" y2=\"455.0\" /><path d=\"M 75.0,480.0 a15.0,15.0 0 0,1 -15.0,15.0\" fill=\"none\" stroke=\"#c65353\" stroke-width=\"2.0\" /><line stroke=\"#c65353\" stroke-width=\"2.0\" x1=\"55.0\" x2=\"60.0\" y1=\"495.0\" y2=\"495.0\" /><path d=\"M 55.0,500.0 a15.0,15.0 0 0,1 -15.0,15.0\" fill=\"none\" stroke=\"#53c6c6\" stroke-width=\"2.0\" /><line stroke=\"#53c6c6\" stroke-width=\"2.0\" x1=\"35.0\" x2=\"40.0\" y1=\"515.0\" y2=\"515.0\" /><path d=\"M 135.0,540.0 a15.0,15.0 0 0,0 15.0,15.0\" fill=\"none\" stroke=\"#d98c8c\" stroke-width=\"2.0\" /><line stroke=\"#d98c8c\" stroke-width=\"2.0\" x1=\"150.0\" x2=\"215.0\" y1=\"555.0\" y2=\"555.0\" /><path d=\"M 135.0,560.0 a15.0,15.0 0 0,0 15.0,15.0\" fill=\"none\" stroke=\"#d98c8c\" stroke-width=\"2.0\" /><path d=\"M 175.0,560.0 a15.0,15.0 0 0,0 15.0,15.0\" fill=\"none\" stroke=\"#c653c6\" stroke-width=\"2.0\" /><path d=\"M 215.0,560.0 a15.0,15.0 0 0,0 15.0,15.0\" fill=\"none\" stroke=\"#c65353\" stroke-width=\"2.0\" /><line stroke=\"#d98c8c\" stroke-width=\"2.0\" x1=\"150.0\" x2=\"255.0\" y1=\"575.0\" y2=\"575.0\" /><path d=\"M 155.0,580.0 a15.0,15.0 0 0,0 15.0,15.0\" fill=\"none\" stroke=\"#8cd9d9\" stroke-width=\"2.0\" /><line stroke=\"#8cd9d9\" stroke-width=\"2.0\" x1=\"170.0\" x2=\"195.0\" y1=\"595.0\" y2=\"595.0\" /><path d=\"M 255.0,580.0 a15.0,15.0 0 0,1 -15.0,15.0\" fill=\"none\" stroke=\"#d98c8c\" stroke-width=\"2.0\" /><line stroke=\"#d98c8c\" stroke-width=\"2.0\" x1=\"195.0\" x2=\"240.0\" y1=\"595.0\" y2=\"595.0\" /><path d=\"M 235.0,660.0 a15.0,15.0 0 0,1 -15.0,15.0\" fill=\"none\" stroke=\"#d98cd9\" stroke-width=\"2.0\" /><line stroke=\"#d98cd9\" stroke-width=\"2.0\" x1=\"195.0\" x2=\"220.0\" y1=\"675.0\" y2=\"675.0\" /><path d=\"M 235.0,680.0 a15.0,15.0 0 0,1 -15.0,15.0\" fill=\"none\" stroke=\"#d98cd9\" stroke-width=\"2.0\" /><line stroke=\"#d98cd9\" stroke-width=\"2.0\" x1=\"195.0\" x2=\"220.0\" y1=\"695.0\" y2=\"695.0\" /><path d=\"M 235.0,700.0 a15.0,15.0 0 0,1 -15.0,15.0\" fill=\"none\" stroke=\"#d98cd9\" stroke-width=\"2.0\" /><line stroke=\"#d98cd9\" stroke-width=\"2.0\" x1=\"195.0\" x2=\"220.0\" y1=\"715.0\" y2=\"715.0\" /><path d=\"M 195.0,740.0 a15.0,15.0 0 0,1 -15.0,15.0\" fill=\"none\" stroke=\"#999933\" stroke-width=\"2.0\" /><line stroke=\"#999933\" stroke-width=\"2.0\" x1=\"75.0\" x2=\"180.0\" y1=\"755.0\" y2=\"755.0\" /><path d=\"M 75.0,760.0 a15.0,15.0 0 0,0 15.0,15.0\" fill=\"none\" stroke=\"#339933\" stroke-width=\"2.0\" /><line stroke=\"#339933\" stroke-width=\"2.0\" x1=\"90.0\" x2=\"195.0\" y1=\"775.0\" y2=\"775.0\" /><path d=\"M 95.0,780.0 a15.0,15.0 0 0,1 -15.0,15.0\" fill=\"none\" stroke=\"#339999\" stroke-width=\"2.0\" /><path d=\"M 115.0,780.0 a15.0,15.0 0 0,1 -15.0,15.0\" fill=\"none\" stroke=\"#993333\" stroke-width=\"2.0\" /><line stroke=\"#993333\" stroke-width=\"2.0\" x1=\"75.0\" x2=\"100.0\" y1=\"795.0\" y2=\"795.0\" /></g><g><circle cx=\"255.0\" cy=\"15.0\" fill=\"#c65353\" r=\"6.0\" stroke=\"white\" stroke-width=\"2.0\" /><text dominant-baseline=\"middle\" font-family=\"sans-serif\" x=\"275.0\" y=\"15.0\">Unix/TS 1.0</text><circle cx=\"235.0\" cy=\"35.0\" fill=\"#c6c653\" r=\"6.0\" stroke=\"white\" stroke-width=\"2.0\" /><text dominant-baseline=\"middle\" font-family=\"sans-serif\" x=\"275.0\" y=\"35.0\">5th Edition</text><circle cx=\"215.0\" cy=\"55.0\" fill=\"#53c653\" r=\"6.0\" stroke=\"white\" stroke-width=\"2.0\" /><text dominant-baseline=\"middle\" font-family=\"sans-serif\" x=\"275.0\" y=\"55.0\">PWB 1.0</text><circle cx=\"195.0\" cy=\"75.0\" fill=\"#53c6c6\" r=\"6.0\" stroke=\"white\" stroke-width=\"2.0\" /><text dominant-baseline=\"middle\" font-family=\"sans-serif\" x=\"275.0\" y=\"75.0\">USG 1.0</text><circle cx=\"175.0\" cy=\"95.0\" fill=\"#5353c6\" r=\"6.0\" stroke=\"white\" stroke-width=\"2.0\" /><text dominant-baseline=\"middle\" font-family=\"sans-serif\" x=\"275.0\" y=\"95.0\">USG 2.0</text><circle cx=\"175.0\" cy=\"115.0\" fill=\"#c653c6\" r=\"6.0\" stroke=\"white\" stroke-width=\"2.0\" /><text dominant-baseline=\"middle\" font-family=\"sans-serif\" x=\"275.0\" y=\"115.0\">USG 3.0</text><circle cx=\"195.0\" cy=\"135.0\" fill=\"#c65353\" r=\"6.0\" stroke=\"white\" stroke-width=\"2.0\" /><text dominant-baseline=\"middle\" font-family=\"sans-serif\" x=\"275.0\" y=\"135.0\">CB Unix 1</text><circle cx=\"195.0\" cy=\"155.0\" fill=\"#d98c8c\" r=\"6.0\" stroke=\"white\" stroke-width=\"2.0\" /><text dominant-baseline=\"middle\" font-family=\"sans-serif\" x=\"275.0\" y=\"155.0\">CB Unix 2</text><circle cx=\"195.0\" cy=\"175.0\" fill=\"#d9d98c\" r=\"6.0\" stroke=\"white\" stroke-width=\"2.0\" /><text dominant-baseline=\"middle\" font-family=\"sans-serif\" x=\"275.0\" y=\"175.0\">CB Unix 3</text><circle cx=\"155.0\" cy=\"195.0\" fill=\"#8cd98c\" r=\"6.0\" stroke=\"white\" stroke-width=\"2.0\" /><text dominant-baseline=\"middle\" font-family=\"sans-serif\" x=\"275.0\" y=\"195.0\">PDP-11 Sys V</text><circle cx=\"155.0\" cy=\"215.0\" fill=\"#8cd9d9\" r=\"6.0\" stroke=\"white\" stroke-width=\"2.0\" /><text dominant-baseline=\"middle\" font-family=\"sans-serif\" x=\"275.0\" y=\"215.0\">Unix/TS++</text><circle cx=\"215.0\" cy=\"235.0\" fill=\"#8c8cd9\" r=\"6.0\" stroke=\"white\" stroke-width=\"2.0\" /><text dominant-baseline=\"middle\" font-family=\"sans-serif\" x=\"275.0\" y=\"235.0\">PWB 1.2</text><circle cx=\"235.0\" cy=\"255.0\" fill=\"#d98cd9\" r=\"6.0\" stroke=\"white\" stroke-width=\"2.0\" /><text dominant-baseline=\"middle\" font-family=\"sans-serif\" x=\"275.0\" y=\"255.0\">6th Edition</text><circle cx=\"135.0\" cy=\"275.0\" fill=\"#d98c8c\" r=\"6.0\" stroke=\"white\" stroke-width=\"2.0\" /><text dominant-baseline=\"middle\" font-family=\"sans-serif\" x=\"275.0\" y=\"275.0\">Interdata</text><circle cx=\"115.0\" cy=\"295.0\" fill=\"#993333\" r=\"6.0\" stroke=\"white\" stroke-width=\"2.0\" /><text dominant-baseline=\"middle\" font-family=\"sans-serif\" x=\"275.0\" y=\"295.0\">7th Edition</text><circle cx=\"95.0\" cy=\"315.0\" fill=\"#999933\" r=\"6.0\" stroke=\"white\" stroke-width=\"2.0\" /><text dominant-baseline=\"middle\" font-family=\"sans-serif\" x=\"275.0\" y=\"315.0\">UniPlus+</text><circle cx=\"95.0\" cy=\"335.0\" fill=\"#339933\" r=\"6.0\" stroke=\"white\" stroke-width=\"2.0\" /><text dominant-baseline=\"middle\" font-family=\"sans-serif\" x=\"275.0\" y=\"335.0\">Xenix</text><circle cx=\"95.0\" cy=\"355.0\" fill=\"#339999\" r=\"6.0\" stroke=\"white\" stroke-width=\"2.0\" /><text dominant-baseline=\"middle\" font-family=\"sans-serif\" x=\"275.0\" y=\"355.0\">V7M</text><circle cx=\"75.0\" cy=\"375.0\" fill=\"#333399\" r=\"6.0\" stroke=\"white\" stroke-width=\"2.0\" /><text dominant-baseline=\"middle\" font-family=\"sans-serif\" x=\"275.0\" y=\"375.0\">32V</text><circle cx=\"75.0\" cy=\"395.0\" fill=\"#993399\" r=\"6.0\" stroke=\"white\" stroke-width=\"2.0\" /><text dominant-baseline=\"middle\" font-family=\"sans-serif\" x=\"275.0\" y=\"395.0\">3 BSD</text><circle cx=\"75.0\" cy=\"415.0\" fill=\"#993333\" r=\"6.0\" stroke=\"white\" stroke-width=\"2.0\" /><text dominant-baseline=\"middle\" font-family=\"sans-serif\" x=\"275.0\" y=\"415.0\">4 BSD</text><circle cx=\"75.0\" cy=\"435.0\" fill=\"#c65353\" r=\"6.0\" stroke=\"white\" stroke-width=\"2.0\" /><text dominant-baseline=\"middle\" font-family=\"sans-serif\" x=\"275.0\" y=\"435.0\">4.1 BSD</text><circle cx=\"55.0\" cy=\"455.0\" fill=\"#c6c653\" r=\"6.0\" stroke=\"white\" stroke-width=\"2.0\" /><text dominant-baseline=\"middle\" font-family=\"sans-serif\" x=\"275.0\" y=\"455.0\">8th Edition</text><circle cx=\"55.0\" cy=\"475.0\" fill=\"#53c653\" r=\"6.0\" stroke=\"white\" stroke-width=\"2.0\" /><text dominant-baseline=\"middle\" font-family=\"sans-serif\" x=\"275.0\" y=\"475.0\">9th Edition</text><circle cx=\"55.0\" cy=\"495.0\" fill=\"#53c6c6\" r=\"6.0\" stroke=\"white\" stroke-width=\"2.0\" /><text dominant-baseline=\"middle\" font-family=\"sans-serif\" x=\"275.0\" y=\"495.0\">4.2 BSD</text><circle cx=\"35.0\" cy=\"515.0\" fill=\"#5353c6\" r=\"6.0\" stroke=\"white\" stroke-width=\"2.0\" /><text dominant-baseline=\"middle\" font-family=\"sans-serif\" x=\"275.0\" y=\"515.0\">Ultrix-32</text><circle cx=\"55.0\" cy=\"535.0\" fill=\"#c653c6\" r=\"6.0\" stroke=\"white\" stroke-width=\"2.0\" /><text dominant-baseline=\"middle\" font-family=\"sans-serif\" x=\"275.0\" y=\"535.0\">4.3 BSD</text><circle cx=\"215.0\" cy=\"555.0\" fill=\"#c65353\" r=\"6.0\" stroke=\"white\" stroke-width=\"2.0\" /><text dominant-baseline=\"middle\" font-family=\"sans-serif\" x=\"275.0\" y=\"555.0\">PWB 2.0</text><circle cx=\"255.0\" cy=\"575.0\" fill=\"#d98c8c\" r=\"6.0\" stroke=\"white\" stroke-width=\"2.0\" /><text dominant-baseline=\"middle\" font-family=\"sans-serif\" x=\"275.0\" y=\"575.0\">Unix/TS 3.0</text><circle cx=\"195.0\" cy=\"595.0\" fill=\"#d9d98c\" r=\"6.0\" stroke=\"white\" stroke-width=\"2.0\" /><text dominant-baseline=\"middle\" font-family=\"sans-serif\" x=\"275.0\" y=\"595.0\">TS 4.0</text><circle cx=\"195.0\" cy=\"615.0\" fill=\"#8cd98c\" r=\"6.0\" stroke=\"white\" stroke-width=\"2.0\" /><text dominant-baseline=\"middle\" font-family=\"sans-serif\" x=\"255.0\" y=\"615.0\">System V.0</text><circle cx=\"195.0\" cy=\"635.0\" fill=\"#8cd9d9\" r=\"6.0\" stroke=\"white\" stroke-width=\"2.0\" /><text dominant-baseline=\"middle\" font-family=\"sans-serif\" x=\"255.0\" y=\"635.0\">System V.2</text><circle cx=\"195.0\" cy=\"655.0\" fill=\"#8c8cd9\" r=\"6.0\" stroke=\"white\" stroke-width=\"2.0\" /><text dominant-baseline=\"middle\" font-family=\"sans-serif\" x=\"255.0\" y=\"655.0\">System V.3</text><circle cx=\"195.0\" cy=\"675.0\" fill=\"#d98cd9\" r=\"6.0\" stroke=\"white\" stroke-width=\"2.0\" /><text dominant-baseline=\"middle\" font-family=\"sans-serif\" x=\"255.0\" y=\"675.0\">Wollongong</text><circle cx=\"195.0\" cy=\"695.0\" fill=\"#d98c8c\" r=\"6.0\" stroke=\"white\" stroke-width=\"2.0\" /><text dominant-baseline=\"middle\" font-family=\"sans-serif\" x=\"255.0\" y=\"695.0\">Mini Unix</text><circle cx=\"195.0\" cy=\"715.0\" fill=\"#993333\" r=\"6.0\" stroke=\"white\" stroke-width=\"2.0\" /><text dominant-baseline=\"middle\" font-family=\"sans-serif\" x=\"255.0\" y=\"715.0\">1 BSD</text><circle cx=\"195.0\" cy=\"735.0\" fill=\"#999933\" r=\"6.0\" stroke=\"white\" stroke-width=\"2.0\" /><text dominant-baseline=\"middle\" font-family=\"sans-serif\" x=\"255.0\" y=\"735.0\">2 BSD</text><circle cx=\"75.0\" cy=\"755.0\" fill=\"#339933\" r=\"6.0\" stroke=\"white\" stroke-width=\"2.0\" /><text dominant-baseline=\"middle\" font-family=\"sans-serif\" x=\"255.0\" y=\"755.0\">2.8 BSD</text><circle cx=\"195.0\" cy=\"775.0\" fill=\"#339999\" r=\"6.0\" stroke=\"white\" stroke-width=\"2.0\" /><text dominant-baseline=\"middle\" font-family=\"sans-serif\" x=\"255.0\" y=\"775.0\">2.9 BSD</text><circle cx=\"75.0\" cy=\"795.0\" fill=\"#333399\" r=\"6.0\" stroke=\"white\" stroke-width=\"2.0\" /><text dominant-baseline=\"middle\" font-family=\"sans-serif\" x=\"255.0\" y=\"795.0\">Ultrix-11</text><circle cx=\"235.0\" cy=\"815.0\" fill=\"#993399\" r=\"6.0\" stroke=\"white\" stroke-width=\"2.0\" /><text dominant-baseline=\"middle\" font-family=\"sans-serif\" x=\"255.0\" y=\"815.0\">LSX</text></g></svg>"
      ],
      "text/plain": [
       "<dagviz.Metro at 0x1e2a3dc70d0>"
      ]
     },
     "execution_count": 8,
     "metadata": {},
     "output_type": "execute_result"
    }
   ],
   "source": [
    "Metro(u)"
   ]
  },
  {
   "cell_type": "code",
   "execution_count": null,
   "id": "bf6e954d",
   "metadata": {},
   "outputs": [],
   "source": []
  }
 ],
 "metadata": {
  "kernelspec": {
   "display_name": "Python 3",
   "language": "python",
   "name": "python3"
  },
  "language_info": {
   "codemirror_mode": {
    "name": "ipython",
    "version": 3
   },
   "file_extension": ".py",
   "mimetype": "text/x-python",
   "name": "python",
   "nbconvert_exporter": "python",
   "pygments_lexer": "ipython3",
   "version": "3.8.5"
  }
 },
 "nbformat": 4,
 "nbformat_minor": 5
}
