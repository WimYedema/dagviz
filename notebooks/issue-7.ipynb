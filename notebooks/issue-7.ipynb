{
 "cells": [
  {
   "cell_type": "code",
   "execution_count": 1,
   "metadata": {},
   "outputs": [],
   "source": [
    "from dagviz import render_svg\n",
    "from dagviz.style.metro import svg_renderer, StyleConfig\n",
    "from IPython.display import HTML\n",
    "import networkx as nx"
   ]
  },
  {
   "cell_type": "code",
   "execution_count": 2,
   "metadata": {},
   "outputs": [],
   "source": [
    "g = nx.DiGraph()\n",
    "g.add_node(\"a\", label=\"A012345678901234567890123456789012345678901234567890123456789\")\n",
    "g.add_node(\"b\", label=\"B012345678901234567890123456789012345678901234567890123456789\")\n",
    "\n",
    "g.add_edge(\"a\", \"b\")\n"
   ]
  },
  {
   "cell_type": "code",
   "execution_count": 8,
   "metadata": {},
   "outputs": [
    {
     "data": {
      "text/html": [
       "<svg baseProfile=\"full\" height=\"100%\" version=\"1.1\" viewBox=\"25.0,5.0,675.0,40.0\" width=\"100%\" xmlns=\"http://www.w3.org/2000/svg\" xmlns:ev=\"http://www.w3.org/2001/xml-events\" xmlns:xlink=\"http://www.w3.org/1999/xlink\"><defs /><g><line stroke=\"lightgrey\" stroke-dasharray=\"2\" x1=\"50.0\" x2=\"49.0\" y1=\"15.0\" y2=\"15.0\" /><line stroke=\"lightgrey\" stroke-dasharray=\"2\" x1=\"50.0\" x2=\"49.0\" y1=\"35.0\" y2=\"35.0\" /></g><g><line stroke=\"#c65353\" stroke-width=\"2.0\" x1=\"35.0\" x2=\"35.0\" y1=\"15.0\" y2=\"35.0\" /></g><g /><g /><g><circle cx=\"35.0\" cy=\"15.0\" fill=\"#c65353\" id=\"NA012345678901234567890123456789012345678901234567890123456789\" r=\"6.0\" stroke=\"white\" stroke-width=\"2.0\" /><text dominant-baseline=\"middle\" font-family=\"sans-serif\" font-size=\"inherit\" x=\"55.0\" y=\"15.0\">A012345678901234567890123456789012345678901234567890123456789</text><circle cx=\"35.0\" cy=\"35.0\" fill=\"#c6c653\" id=\"NB012345678901234567890123456789012345678901234567890123456789\" r=\"6.0\" stroke=\"white\" stroke-width=\"2.0\" /><text dominant-baseline=\"middle\" font-family=\"sans-serif\" font-size=\"inherit\" x=\"55.0\" y=\"35.0\">B012345678901234567890123456789012345678901234567890123456789</text></g></svg>"
      ],
      "text/plain": [
       "<IPython.core.display.HTML object>"
      ]
     },
     "execution_count": 8,
     "metadata": {},
     "output_type": "execute_result"
    }
   ],
   "source": [
    "HTML(render_svg(g, style=svg_renderer(StyleConfig(minimal_width=700))))"
   ]
  },
  {
   "cell_type": "code",
   "execution_count": null,
   "metadata": {},
   "outputs": [],
   "source": []
  }
 ],
 "metadata": {
  "kernelspec": {
   "display_name": ".venv",
   "language": "python",
   "name": "python3"
  },
  "language_info": {
   "codemirror_mode": {
    "name": "ipython",
    "version": 3
   },
   "file_extension": ".py",
   "mimetype": "text/x-python",
   "name": "python",
   "nbconvert_exporter": "python",
   "pygments_lexer": "ipython3",
   "version": "3.7.1"
  }
 },
 "nbformat": 4,
 "nbformat_minor": 2
}
