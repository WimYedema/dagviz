{
 "cells": [
  {
   "cell_type": "markdown",
   "id": "c77f27bc",
   "metadata": {},
   "source": [
    "# DAGVIZ Metro styling options\n",
    "This notebook demonstrates the various Metro styling options.\n",
    "\n",
    "In order to apply styling we need to call `render_svg` by hand with the appropriate renderer and style configuration."
   ]
  },
  {
   "cell_type": "code",
   "execution_count": 1,
   "id": "3e8bc03d",
   "metadata": {},
   "outputs": [],
   "source": [
    "from dagviz import render_svg\n",
    "from dagviz.style.metro import svg_renderer, StyleConfig\n",
    "from IPython.display import HTML\n",
    "import networkx as nx"
   ]
  },
  {
   "cell_type": "markdown",
   "id": "d349a22a",
   "metadata": {},
   "source": [
    "First we construct a simple graph that demonstrates all the visual aspects a rendering may have."
   ]
  },
  {
   "cell_type": "code",
   "execution_count": 2,
   "id": "a0214a32",
   "metadata": {},
   "outputs": [],
   "source": [
    "g = nx.DiGraph()\n",
    "g.add_node(\"a\", label=\"switch(value)\")\n",
    "g.add_node(\"b\", label=\"case 1\")\n",
    "g.add_node(\"c\", label=\"case 2\")\n",
    "g.add_node(\"d\", label=\"case 3\")\n",
    "g.add_node(\"e\", label=\"end\")\n",
    "\n",
    "g.add_edge(\"a\", \"b\")\n",
    "g.add_edge(\"a\", \"c\")\n",
    "g.add_edge(\"a\", \"d\")\n",
    "\n",
    "g.add_edge(\"b\", \"e\")\n",
    "g.add_edge(\"c\", \"e\")\n",
    "g.add_edge(\"d\", \"e\")"
   ]
  },
  {
   "cell_type": "markdown",
   "id": "7d568282",
   "metadata": {},
   "source": [
    "## Default rendering\n",
    "Without any configuration, we get (of course) the default rendering:"
   ]
  },
  {
   "cell_type": "code",
   "execution_count": 3,
   "id": "592ed52e",
   "metadata": {},
   "outputs": [
    {
     "data": {
      "text/html": [
       "<svg baseProfile=\"full\" height=\"100%\" version=\"1.1\" viewBox=\"25.0,5.0,475.0,100.0\" width=\"100%\" xmlns=\"http://www.w3.org/2000/svg\" xmlns:ev=\"http://www.w3.org/2001/xml-events\" xmlns:xlink=\"http://www.w3.org/1999/xlink\"><defs /><g><line stroke=\"lightgrey\" stroke-dasharray=\"2\" x1=\"90.0\" x2=\"89.0\" y1=\"15.0\" y2=\"15.0\" /><line stroke=\"lightgrey\" stroke-dasharray=\"2\" x1=\"70.0\" x2=\"89.0\" y1=\"35.0\" y2=\"35.0\" /><line stroke=\"lightgrey\" stroke-dasharray=\"2\" x1=\"50.0\" x2=\"89.0\" y1=\"55.0\" y2=\"55.0\" /><line stroke=\"lightgrey\" stroke-dasharray=\"2\" x1=\"90.0\" x2=\"89.0\" y1=\"75.0\" y2=\"75.0\" /><line stroke=\"lightgrey\" stroke-dasharray=\"2\" x1=\"90.0\" x2=\"89.0\" y1=\"95.0\" y2=\"95.0\" /></g><g><line stroke=\"#c65353\" stroke-width=\"2.0\" x1=\"75.0\" x2=\"75.0\" y1=\"15.0\" y2=\"75.0\" /><line stroke=\"#53c653\" stroke-width=\"2.0\" x1=\"35.0\" x2=\"35.0\" y1=\"55.0\" y2=\"80.0\" /><line stroke=\"#c6c653\" stroke-width=\"2.0\" x1=\"55.0\" x2=\"55.0\" y1=\"35.0\" y2=\"80.0\" /><line stroke=\"#53c6c6\" stroke-width=\"2.0\" x1=\"75.0\" x2=\"75.0\" y1=\"75.0\" y2=\"95.0\" /></g><g><line stroke=\"white\" stroke-width=\"6.0\" x1=\"55.0\" x2=\"60.0\" y1=\"35.0\" y2=\"35.0\" /><line stroke=\"white\" stroke-width=\"6.0\" x1=\"35.0\" x2=\"60.0\" y1=\"55.0\" y2=\"55.0\" /><line stroke=\"white\" stroke-width=\"6.0\" x1=\"50.0\" x2=\"75.0\" y1=\"95.0\" y2=\"95.0\" /></g><g><path d=\"M 75.0,20.0 a15.0,15.0 0 0,1 -15.0,15.0\" fill=\"none\" stroke=\"#c65353\" stroke-width=\"2.0\" /><line stroke=\"#c65353\" stroke-width=\"2.0\" x1=\"55.0\" x2=\"60.0\" y1=\"35.0\" y2=\"35.0\" /><path d=\"M 75.0,40.0 a15.0,15.0 0 0,1 -15.0,15.0\" fill=\"none\" stroke=\"#c65353\" stroke-width=\"2.0\" /><line stroke=\"#c65353\" stroke-width=\"2.0\" x1=\"35.0\" x2=\"60.0\" y1=\"55.0\" y2=\"55.0\" /><path d=\"M 35.0,80.0 a15.0,15.0 0 0,0 15.0,15.0\" fill=\"none\" stroke=\"#53c653\" stroke-width=\"2.0\" /><path d=\"M 55.0,80.0 a15.0,15.0 0 0,0 15.0,15.0\" fill=\"none\" stroke=\"#c6c653\" stroke-width=\"2.0\" /><line stroke=\"#53c653\" stroke-width=\"2.0\" x1=\"50.0\" x2=\"75.0\" y1=\"95.0\" y2=\"95.0\" /></g><g><circle cx=\"75.0\" cy=\"15.0\" fill=\"#c65353\" id=\"Nswitchvalue\" r=\"6.0\" stroke=\"white\" stroke-width=\"2.0\" /><text dominant-baseline=\"middle\" font-family=\"sans-serif\" font-size=\"inherit\" x=\"95.0\" y=\"15.0\">switch(value)</text><circle cx=\"55.0\" cy=\"35.0\" fill=\"#c6c653\" id=\"Ncase1\" r=\"6.0\" stroke=\"white\" stroke-width=\"2.0\" /><text dominant-baseline=\"middle\" font-family=\"sans-serif\" font-size=\"inherit\" x=\"95.0\" y=\"35.0\">case 1</text><circle cx=\"35.0\" cy=\"55.0\" fill=\"#53c653\" id=\"Ncase2\" r=\"6.0\" stroke=\"white\" stroke-width=\"2.0\" /><text dominant-baseline=\"middle\" font-family=\"sans-serif\" font-size=\"inherit\" x=\"95.0\" y=\"55.0\">case 2</text><circle cx=\"75.0\" cy=\"75.0\" fill=\"#53c6c6\" id=\"Ncase3\" r=\"6.0\" stroke=\"white\" stroke-width=\"2.0\" /><text dominant-baseline=\"middle\" font-family=\"sans-serif\" font-size=\"inherit\" x=\"95.0\" y=\"75.0\">case 3</text><circle cx=\"75.0\" cy=\"95.0\" fill=\"#5353c6\" id=\"Nend\" r=\"6.0\" stroke=\"white\" stroke-width=\"2.0\" /><text dominant-baseline=\"middle\" font-family=\"sans-serif\" font-size=\"inherit\" x=\"95.0\" y=\"95.0\">end</text></g></svg>"
      ],
      "text/plain": [
       "<IPython.core.display.HTML object>"
      ]
     },
     "execution_count": 3,
     "metadata": {},
     "output_type": "execute_result"
    }
   ],
   "source": [
    "HTML(render_svg(g))"
   ]
  },
  {
   "cell_type": "markdown",
   "id": "d021871d",
   "metadata": {},
   "source": [
    "## Scale\n",
    "The *scale* setting determines the amount of space each node has:"
   ]
  },
  {
   "cell_type": "code",
   "execution_count": 4,
   "id": "5502b9fd",
   "metadata": {
    "scrolled": true
   },
   "outputs": [
    {
     "data": {
      "text/html": [
       "<svg baseProfile=\"full\" height=\"100%\" version=\"1.1\" viewBox=\"35.0,-5.0,465.0,200.0\" width=\"100%\" xmlns=\"http://www.w3.org/2000/svg\" xmlns:ev=\"http://www.w3.org/2001/xml-events\" xmlns:xlink=\"http://www.w3.org/1999/xlink\"><defs /><g><line stroke=\"lightgrey\" stroke-dasharray=\"2\" x1=\"150.0\" x2=\"169.0\" y1=\"15.0\" y2=\"15.0\" /><line stroke=\"lightgrey\" stroke-dasharray=\"2\" x1=\"110.0\" x2=\"169.0\" y1=\"55.0\" y2=\"55.0\" /><line stroke=\"lightgrey\" stroke-dasharray=\"2\" x1=\"70.0\" x2=\"169.0\" y1=\"95.0\" y2=\"95.0\" /><line stroke=\"lightgrey\" stroke-dasharray=\"2\" x1=\"150.0\" x2=\"169.0\" y1=\"135.0\" y2=\"135.0\" /><line stroke=\"lightgrey\" stroke-dasharray=\"2\" x1=\"150.0\" x2=\"169.0\" y1=\"175.0\" y2=\"175.0\" /></g><g><line stroke=\"#c65353\" stroke-width=\"2.0\" x1=\"135.0\" x2=\"135.0\" y1=\"15.0\" y2=\"135.0\" /><line stroke=\"#53c653\" stroke-width=\"2.0\" x1=\"55.0\" x2=\"55.0\" y1=\"95.0\" y2=\"160.0\" /><line stroke=\"#c6c653\" stroke-width=\"2.0\" x1=\"95.0\" x2=\"95.0\" y1=\"55.0\" y2=\"160.0\" /><line stroke=\"#53c6c6\" stroke-width=\"2.0\" x1=\"135.0\" x2=\"135.0\" y1=\"135.0\" y2=\"175.0\" /></g><g><line stroke=\"white\" stroke-width=\"6.0\" x1=\"95.0\" x2=\"120.0\" y1=\"55.0\" y2=\"55.0\" /><line stroke=\"white\" stroke-width=\"6.0\" x1=\"55.0\" x2=\"120.0\" y1=\"95.0\" y2=\"95.0\" /><line stroke=\"white\" stroke-width=\"6.0\" x1=\"70.0\" x2=\"135.0\" y1=\"175.0\" y2=\"175.0\" /></g><g><path d=\"M 135.0,40.0 a15.0,15.0 0 0,1 -15.0,15.0\" fill=\"none\" stroke=\"#c65353\" stroke-width=\"2.0\" /><line stroke=\"#c65353\" stroke-width=\"2.0\" x1=\"95.0\" x2=\"120.0\" y1=\"55.0\" y2=\"55.0\" /><path d=\"M 135.0,80.0 a15.0,15.0 0 0,1 -15.0,15.0\" fill=\"none\" stroke=\"#c65353\" stroke-width=\"2.0\" /><line stroke=\"#c65353\" stroke-width=\"2.0\" x1=\"55.0\" x2=\"120.0\" y1=\"95.0\" y2=\"95.0\" /><path d=\"M 55.0,160.0 a15.0,15.0 0 0,0 15.0,15.0\" fill=\"none\" stroke=\"#53c653\" stroke-width=\"2.0\" /><path d=\"M 95.0,160.0 a15.0,15.0 0 0,0 15.0,15.0\" fill=\"none\" stroke=\"#c6c653\" stroke-width=\"2.0\" /><line stroke=\"#53c653\" stroke-width=\"2.0\" x1=\"70.0\" x2=\"135.0\" y1=\"175.0\" y2=\"175.0\" /></g><g><circle cx=\"135.0\" cy=\"15.0\" fill=\"#c65353\" id=\"Nswitchvalue\" r=\"6.0\" stroke=\"white\" stroke-width=\"2.0\" /><text dominant-baseline=\"middle\" font-family=\"sans-serif\" font-size=\"inherit\" x=\"175.0\" y=\"15.0\">switch(value)</text><circle cx=\"95.0\" cy=\"55.0\" fill=\"#c6c653\" id=\"Ncase1\" r=\"6.0\" stroke=\"white\" stroke-width=\"2.0\" /><text dominant-baseline=\"middle\" font-family=\"sans-serif\" font-size=\"inherit\" x=\"175.0\" y=\"55.0\">case 1</text><circle cx=\"55.0\" cy=\"95.0\" fill=\"#53c653\" id=\"Ncase2\" r=\"6.0\" stroke=\"white\" stroke-width=\"2.0\" /><text dominant-baseline=\"middle\" font-family=\"sans-serif\" font-size=\"inherit\" x=\"175.0\" y=\"95.0\">case 2</text><circle cx=\"135.0\" cy=\"135.0\" fill=\"#53c6c6\" id=\"Ncase3\" r=\"6.0\" stroke=\"white\" stroke-width=\"2.0\" /><text dominant-baseline=\"middle\" font-family=\"sans-serif\" font-size=\"inherit\" x=\"175.0\" y=\"135.0\">case 3</text><circle cx=\"135.0\" cy=\"175.0\" fill=\"#5353c6\" id=\"Nend\" r=\"6.0\" stroke=\"white\" stroke-width=\"2.0\" /><text dominant-baseline=\"middle\" font-family=\"sans-serif\" font-size=\"inherit\" x=\"175.0\" y=\"175.0\">end</text></g></svg>"
      ],
      "text/plain": [
       "<IPython.core.display.HTML object>"
      ]
     },
     "execution_count": 4,
     "metadata": {},
     "output_type": "execute_result"
    }
   ],
   "source": [
    "HTML(render_svg(g, style=svg_renderer(StyleConfig(scale=20))))"
   ]
  },
  {
   "cell_type": "markdown",
   "id": "e0f71f9e",
   "metadata": {},
   "source": [
    "## Node radius\n",
    "The *node radius* determines the size of the bubbles:"
   ]
  },
  {
   "cell_type": "code",
   "execution_count": 5,
   "id": "e351a1cd",
   "metadata": {},
   "outputs": [
    {
     "data": {
      "text/html": [
       "<svg baseProfile=\"full\" height=\"100%\" version=\"1.1\" viewBox=\"25.0,5.0,475.0,100.0\" width=\"100%\" xmlns=\"http://www.w3.org/2000/svg\" xmlns:ev=\"http://www.w3.org/2001/xml-events\" xmlns:xlink=\"http://www.w3.org/1999/xlink\"><defs /><g><line stroke=\"lightgrey\" stroke-dasharray=\"2\" x1=\"90.0\" x2=\"89.0\" y1=\"15.0\" y2=\"15.0\" /><line stroke=\"lightgrey\" stroke-dasharray=\"2\" x1=\"70.0\" x2=\"89.0\" y1=\"35.0\" y2=\"35.0\" /><line stroke=\"lightgrey\" stroke-dasharray=\"2\" x1=\"50.0\" x2=\"89.0\" y1=\"55.0\" y2=\"55.0\" /><line stroke=\"lightgrey\" stroke-dasharray=\"2\" x1=\"90.0\" x2=\"89.0\" y1=\"75.0\" y2=\"75.0\" /><line stroke=\"lightgrey\" stroke-dasharray=\"2\" x1=\"90.0\" x2=\"89.0\" y1=\"95.0\" y2=\"95.0\" /></g><g><line stroke=\"#c65353\" stroke-width=\"2.0\" x1=\"75.0\" x2=\"75.0\" y1=\"15.0\" y2=\"75.0\" /><line stroke=\"#53c653\" stroke-width=\"2.0\" x1=\"35.0\" x2=\"35.0\" y1=\"55.0\" y2=\"80.0\" /><line stroke=\"#c6c653\" stroke-width=\"2.0\" x1=\"55.0\" x2=\"55.0\" y1=\"35.0\" y2=\"80.0\" /><line stroke=\"#53c6c6\" stroke-width=\"2.0\" x1=\"75.0\" x2=\"75.0\" y1=\"75.0\" y2=\"95.0\" /></g><g><line stroke=\"white\" stroke-width=\"6.0\" x1=\"55.0\" x2=\"60.0\" y1=\"35.0\" y2=\"35.0\" /><line stroke=\"white\" stroke-width=\"6.0\" x1=\"35.0\" x2=\"60.0\" y1=\"55.0\" y2=\"55.0\" /><line stroke=\"white\" stroke-width=\"6.0\" x1=\"50.0\" x2=\"75.0\" y1=\"95.0\" y2=\"95.0\" /></g><g><path d=\"M 75.0,20.0 a15.0,15.0 0 0,1 -15.0,15.0\" fill=\"none\" stroke=\"#c65353\" stroke-width=\"2.0\" /><line stroke=\"#c65353\" stroke-width=\"2.0\" x1=\"55.0\" x2=\"60.0\" y1=\"35.0\" y2=\"35.0\" /><path d=\"M 75.0,40.0 a15.0,15.0 0 0,1 -15.0,15.0\" fill=\"none\" stroke=\"#c65353\" stroke-width=\"2.0\" /><line stroke=\"#c65353\" stroke-width=\"2.0\" x1=\"35.0\" x2=\"60.0\" y1=\"55.0\" y2=\"55.0\" /><path d=\"M 35.0,80.0 a15.0,15.0 0 0,0 15.0,15.0\" fill=\"none\" stroke=\"#53c653\" stroke-width=\"2.0\" /><path d=\"M 55.0,80.0 a15.0,15.0 0 0,0 15.0,15.0\" fill=\"none\" stroke=\"#c6c653\" stroke-width=\"2.0\" /><line stroke=\"#53c653\" stroke-width=\"2.0\" x1=\"50.0\" x2=\"75.0\" y1=\"95.0\" y2=\"95.0\" /></g><g><circle cx=\"75.0\" cy=\"15.0\" fill=\"#c65353\" id=\"Nswitchvalue\" r=\"10\" stroke=\"white\" stroke-width=\"2.0\" /><text dominant-baseline=\"middle\" font-family=\"sans-serif\" font-size=\"inherit\" x=\"95.0\" y=\"15.0\">switch(value)</text><circle cx=\"55.0\" cy=\"35.0\" fill=\"#c6c653\" id=\"Ncase1\" r=\"10\" stroke=\"white\" stroke-width=\"2.0\" /><text dominant-baseline=\"middle\" font-family=\"sans-serif\" font-size=\"inherit\" x=\"95.0\" y=\"35.0\">case 1</text><circle cx=\"35.0\" cy=\"55.0\" fill=\"#53c653\" id=\"Ncase2\" r=\"10\" stroke=\"white\" stroke-width=\"2.0\" /><text dominant-baseline=\"middle\" font-family=\"sans-serif\" font-size=\"inherit\" x=\"95.0\" y=\"55.0\">case 2</text><circle cx=\"75.0\" cy=\"75.0\" fill=\"#53c6c6\" id=\"Ncase3\" r=\"10\" stroke=\"white\" stroke-width=\"2.0\" /><text dominant-baseline=\"middle\" font-family=\"sans-serif\" font-size=\"inherit\" x=\"95.0\" y=\"75.0\">case 3</text><circle cx=\"75.0\" cy=\"95.0\" fill=\"#5353c6\" id=\"Nend\" r=\"10\" stroke=\"white\" stroke-width=\"2.0\" /><text dominant-baseline=\"middle\" font-family=\"sans-serif\" font-size=\"inherit\" x=\"95.0\" y=\"95.0\">end</text></g></svg>"
      ],
      "text/plain": [
       "<IPython.core.display.HTML object>"
      ]
     },
     "execution_count": 5,
     "metadata": {},
     "output_type": "execute_result"
    }
   ],
   "source": [
    "HTML(render_svg(g, style=svg_renderer(StyleConfig(node_radius=10))))"
   ]
  },
  {
   "cell_type": "markdown",
   "id": "a1f3daa7",
   "metadata": {},
   "source": [
    "## Node fill\n",
    "By default the node fill color is automatically selected. This can be overriden by specifying a fixed color:"
   ]
  },
  {
   "cell_type": "code",
   "execution_count": 6,
   "id": "9d137e91",
   "metadata": {},
   "outputs": [
    {
     "data": {
      "text/html": [
       "<svg baseProfile=\"full\" height=\"100%\" version=\"1.1\" viewBox=\"25.0,5.0,475.0,100.0\" width=\"100%\" xmlns=\"http://www.w3.org/2000/svg\" xmlns:ev=\"http://www.w3.org/2001/xml-events\" xmlns:xlink=\"http://www.w3.org/1999/xlink\"><defs /><g><line stroke=\"lightgrey\" stroke-dasharray=\"2\" x1=\"90.0\" x2=\"89.0\" y1=\"15.0\" y2=\"15.0\" /><line stroke=\"lightgrey\" stroke-dasharray=\"2\" x1=\"70.0\" x2=\"89.0\" y1=\"35.0\" y2=\"35.0\" /><line stroke=\"lightgrey\" stroke-dasharray=\"2\" x1=\"50.0\" x2=\"89.0\" y1=\"55.0\" y2=\"55.0\" /><line stroke=\"lightgrey\" stroke-dasharray=\"2\" x1=\"90.0\" x2=\"89.0\" y1=\"75.0\" y2=\"75.0\" /><line stroke=\"lightgrey\" stroke-dasharray=\"2\" x1=\"90.0\" x2=\"89.0\" y1=\"95.0\" y2=\"95.0\" /></g><g><line stroke=\"#c65353\" stroke-width=\"2.0\" x1=\"75.0\" x2=\"75.0\" y1=\"15.0\" y2=\"75.0\" /><line stroke=\"#53c653\" stroke-width=\"2.0\" x1=\"35.0\" x2=\"35.0\" y1=\"55.0\" y2=\"80.0\" /><line stroke=\"#c6c653\" stroke-width=\"2.0\" x1=\"55.0\" x2=\"55.0\" y1=\"35.0\" y2=\"80.0\" /><line stroke=\"#53c6c6\" stroke-width=\"2.0\" x1=\"75.0\" x2=\"75.0\" y1=\"75.0\" y2=\"95.0\" /></g><g><line stroke=\"white\" stroke-width=\"6.0\" x1=\"55.0\" x2=\"60.0\" y1=\"35.0\" y2=\"35.0\" /><line stroke=\"white\" stroke-width=\"6.0\" x1=\"35.0\" x2=\"60.0\" y1=\"55.0\" y2=\"55.0\" /><line stroke=\"white\" stroke-width=\"6.0\" x1=\"50.0\" x2=\"75.0\" y1=\"95.0\" y2=\"95.0\" /></g><g><path d=\"M 75.0,20.0 a15.0,15.0 0 0,1 -15.0,15.0\" fill=\"none\" stroke=\"#c65353\" stroke-width=\"2.0\" /><line stroke=\"#c65353\" stroke-width=\"2.0\" x1=\"55.0\" x2=\"60.0\" y1=\"35.0\" y2=\"35.0\" /><path d=\"M 75.0,40.0 a15.0,15.0 0 0,1 -15.0,15.0\" fill=\"none\" stroke=\"#c65353\" stroke-width=\"2.0\" /><line stroke=\"#c65353\" stroke-width=\"2.0\" x1=\"35.0\" x2=\"60.0\" y1=\"55.0\" y2=\"55.0\" /><path d=\"M 35.0,80.0 a15.0,15.0 0 0,0 15.0,15.0\" fill=\"none\" stroke=\"#53c653\" stroke-width=\"2.0\" /><path d=\"M 55.0,80.0 a15.0,15.0 0 0,0 15.0,15.0\" fill=\"none\" stroke=\"#c6c653\" stroke-width=\"2.0\" /><line stroke=\"#53c653\" stroke-width=\"2.0\" x1=\"50.0\" x2=\"75.0\" y1=\"95.0\" y2=\"95.0\" /></g><g><circle cx=\"75.0\" cy=\"15.0\" fill=\"black\" id=\"Nswitchvalue\" r=\"6.0\" stroke=\"white\" stroke-width=\"2.0\" /><text dominant-baseline=\"middle\" font-family=\"sans-serif\" font-size=\"inherit\" x=\"95.0\" y=\"15.0\">switch(value)</text><circle cx=\"55.0\" cy=\"35.0\" fill=\"black\" id=\"Ncase1\" r=\"6.0\" stroke=\"white\" stroke-width=\"2.0\" /><text dominant-baseline=\"middle\" font-family=\"sans-serif\" font-size=\"inherit\" x=\"95.0\" y=\"35.0\">case 1</text><circle cx=\"35.0\" cy=\"55.0\" fill=\"black\" id=\"Ncase2\" r=\"6.0\" stroke=\"white\" stroke-width=\"2.0\" /><text dominant-baseline=\"middle\" font-family=\"sans-serif\" font-size=\"inherit\" x=\"95.0\" y=\"55.0\">case 2</text><circle cx=\"75.0\" cy=\"75.0\" fill=\"black\" id=\"Ncase3\" r=\"6.0\" stroke=\"white\" stroke-width=\"2.0\" /><text dominant-baseline=\"middle\" font-family=\"sans-serif\" font-size=\"inherit\" x=\"95.0\" y=\"75.0\">case 3</text><circle cx=\"75.0\" cy=\"95.0\" fill=\"black\" id=\"Nend\" r=\"6.0\" stroke=\"white\" stroke-width=\"2.0\" /><text dominant-baseline=\"middle\" font-family=\"sans-serif\" font-size=\"inherit\" x=\"95.0\" y=\"95.0\">end</text></g></svg>"
      ],
      "text/plain": [
       "<IPython.core.display.HTML object>"
      ]
     },
     "execution_count": 6,
     "metadata": {},
     "output_type": "execute_result"
    }
   ],
   "source": [
    "HTML(render_svg(g, style=svg_renderer(StyleConfig(node_fill=\"black\"))))"
   ]
  },
  {
   "cell_type": "markdown",
   "id": "5d3a63d3",
   "metadata": {},
   "source": [
    "## Node stroke\n",
    "The *node stroke* specifies the color of the border of the bubble:"
   ]
  },
  {
   "cell_type": "code",
   "execution_count": 7,
   "id": "0271ca5e",
   "metadata": {},
   "outputs": [
    {
     "data": {
      "text/html": [
       "<svg baseProfile=\"full\" height=\"100%\" version=\"1.1\" viewBox=\"25.0,5.0,475.0,100.0\" width=\"100%\" xmlns=\"http://www.w3.org/2000/svg\" xmlns:ev=\"http://www.w3.org/2001/xml-events\" xmlns:xlink=\"http://www.w3.org/1999/xlink\"><defs /><g><line stroke=\"lightgrey\" stroke-dasharray=\"2\" x1=\"90.0\" x2=\"89.0\" y1=\"15.0\" y2=\"15.0\" /><line stroke=\"lightgrey\" stroke-dasharray=\"2\" x1=\"70.0\" x2=\"89.0\" y1=\"35.0\" y2=\"35.0\" /><line stroke=\"lightgrey\" stroke-dasharray=\"2\" x1=\"50.0\" x2=\"89.0\" y1=\"55.0\" y2=\"55.0\" /><line stroke=\"lightgrey\" stroke-dasharray=\"2\" x1=\"90.0\" x2=\"89.0\" y1=\"75.0\" y2=\"75.0\" /><line stroke=\"lightgrey\" stroke-dasharray=\"2\" x1=\"90.0\" x2=\"89.0\" y1=\"95.0\" y2=\"95.0\" /></g><g><line stroke=\"#c65353\" stroke-width=\"2.0\" x1=\"75.0\" x2=\"75.0\" y1=\"15.0\" y2=\"75.0\" /><line stroke=\"#53c653\" stroke-width=\"2.0\" x1=\"35.0\" x2=\"35.0\" y1=\"55.0\" y2=\"80.0\" /><line stroke=\"#c6c653\" stroke-width=\"2.0\" x1=\"55.0\" x2=\"55.0\" y1=\"35.0\" y2=\"80.0\" /><line stroke=\"#53c6c6\" stroke-width=\"2.0\" x1=\"75.0\" x2=\"75.0\" y1=\"75.0\" y2=\"95.0\" /></g><g><line stroke=\"white\" stroke-width=\"6.0\" x1=\"55.0\" x2=\"60.0\" y1=\"35.0\" y2=\"35.0\" /><line stroke=\"white\" stroke-width=\"6.0\" x1=\"35.0\" x2=\"60.0\" y1=\"55.0\" y2=\"55.0\" /><line stroke=\"white\" stroke-width=\"6.0\" x1=\"50.0\" x2=\"75.0\" y1=\"95.0\" y2=\"95.0\" /></g><g><path d=\"M 75.0,20.0 a15.0,15.0 0 0,1 -15.0,15.0\" fill=\"none\" stroke=\"#c65353\" stroke-width=\"2.0\" /><line stroke=\"#c65353\" stroke-width=\"2.0\" x1=\"55.0\" x2=\"60.0\" y1=\"35.0\" y2=\"35.0\" /><path d=\"M 75.0,40.0 a15.0,15.0 0 0,1 -15.0,15.0\" fill=\"none\" stroke=\"#c65353\" stroke-width=\"2.0\" /><line stroke=\"#c65353\" stroke-width=\"2.0\" x1=\"35.0\" x2=\"60.0\" y1=\"55.0\" y2=\"55.0\" /><path d=\"M 35.0,80.0 a15.0,15.0 0 0,0 15.0,15.0\" fill=\"none\" stroke=\"#53c653\" stroke-width=\"2.0\" /><path d=\"M 55.0,80.0 a15.0,15.0 0 0,0 15.0,15.0\" fill=\"none\" stroke=\"#c6c653\" stroke-width=\"2.0\" /><line stroke=\"#53c653\" stroke-width=\"2.0\" x1=\"50.0\" x2=\"75.0\" y1=\"95.0\" y2=\"95.0\" /></g><g><circle cx=\"75.0\" cy=\"15.0\" fill=\"#c65353\" id=\"Nswitchvalue\" r=\"6.0\" stroke=\"black\" stroke-width=\"2.0\" /><text dominant-baseline=\"middle\" font-family=\"sans-serif\" font-size=\"inherit\" x=\"95.0\" y=\"15.0\">switch(value)</text><circle cx=\"55.0\" cy=\"35.0\" fill=\"#c6c653\" id=\"Ncase1\" r=\"6.0\" stroke=\"black\" stroke-width=\"2.0\" /><text dominant-baseline=\"middle\" font-family=\"sans-serif\" font-size=\"inherit\" x=\"95.0\" y=\"35.0\">case 1</text><circle cx=\"35.0\" cy=\"55.0\" fill=\"#53c653\" id=\"Ncase2\" r=\"6.0\" stroke=\"black\" stroke-width=\"2.0\" /><text dominant-baseline=\"middle\" font-family=\"sans-serif\" font-size=\"inherit\" x=\"95.0\" y=\"55.0\">case 2</text><circle cx=\"75.0\" cy=\"75.0\" fill=\"#53c6c6\" id=\"Ncase3\" r=\"6.0\" stroke=\"black\" stroke-width=\"2.0\" /><text dominant-baseline=\"middle\" font-family=\"sans-serif\" font-size=\"inherit\" x=\"95.0\" y=\"75.0\">case 3</text><circle cx=\"75.0\" cy=\"95.0\" fill=\"#5353c6\" id=\"Nend\" r=\"6.0\" stroke=\"black\" stroke-width=\"2.0\" /><text dominant-baseline=\"middle\" font-family=\"sans-serif\" font-size=\"inherit\" x=\"95.0\" y=\"95.0\">end</text></g></svg>"
      ],
      "text/plain": [
       "<IPython.core.display.HTML object>"
      ]
     },
     "execution_count": 7,
     "metadata": {},
     "output_type": "execute_result"
    }
   ],
   "source": [
    "HTML(render_svg(g, style=svg_renderer(StyleConfig(node_stroke=\"black\"))))"
   ]
  },
  {
   "cell_type": "markdown",
   "id": "51288082",
   "metadata": {},
   "source": [
    "## Node stroke width\n",
    "The *node stroke width* determines the width of the border of the bubbles:"
   ]
  },
  {
   "cell_type": "code",
   "execution_count": 8,
   "id": "f6f3936a",
   "metadata": {},
   "outputs": [
    {
     "data": {
      "text/html": [
       "<svg baseProfile=\"full\" height=\"100%\" version=\"1.1\" viewBox=\"25.0,5.0,475.0,100.0\" width=\"100%\" xmlns=\"http://www.w3.org/2000/svg\" xmlns:ev=\"http://www.w3.org/2001/xml-events\" xmlns:xlink=\"http://www.w3.org/1999/xlink\"><defs /><g><line stroke=\"lightgrey\" stroke-dasharray=\"2\" x1=\"90.0\" x2=\"89.0\" y1=\"15.0\" y2=\"15.0\" /><line stroke=\"lightgrey\" stroke-dasharray=\"2\" x1=\"70.0\" x2=\"89.0\" y1=\"35.0\" y2=\"35.0\" /><line stroke=\"lightgrey\" stroke-dasharray=\"2\" x1=\"50.0\" x2=\"89.0\" y1=\"55.0\" y2=\"55.0\" /><line stroke=\"lightgrey\" stroke-dasharray=\"2\" x1=\"90.0\" x2=\"89.0\" y1=\"75.0\" y2=\"75.0\" /><line stroke=\"lightgrey\" stroke-dasharray=\"2\" x1=\"90.0\" x2=\"89.0\" y1=\"95.0\" y2=\"95.0\" /></g><g><line stroke=\"#c65353\" stroke-width=\"2.0\" x1=\"75.0\" x2=\"75.0\" y1=\"15.0\" y2=\"75.0\" /><line stroke=\"#53c653\" stroke-width=\"2.0\" x1=\"35.0\" x2=\"35.0\" y1=\"55.0\" y2=\"80.0\" /><line stroke=\"#c6c653\" stroke-width=\"2.0\" x1=\"55.0\" x2=\"55.0\" y1=\"35.0\" y2=\"80.0\" /><line stroke=\"#53c6c6\" stroke-width=\"2.0\" x1=\"75.0\" x2=\"75.0\" y1=\"75.0\" y2=\"95.0\" /></g><g><line stroke=\"white\" stroke-width=\"6.0\" x1=\"55.0\" x2=\"60.0\" y1=\"35.0\" y2=\"35.0\" /><line stroke=\"white\" stroke-width=\"6.0\" x1=\"35.0\" x2=\"60.0\" y1=\"55.0\" y2=\"55.0\" /><line stroke=\"white\" stroke-width=\"6.0\" x1=\"50.0\" x2=\"75.0\" y1=\"95.0\" y2=\"95.0\" /></g><g><path d=\"M 75.0,20.0 a15.0,15.0 0 0,1 -15.0,15.0\" fill=\"none\" stroke=\"#c65353\" stroke-width=\"2.0\" /><line stroke=\"#c65353\" stroke-width=\"2.0\" x1=\"55.0\" x2=\"60.0\" y1=\"35.0\" y2=\"35.0\" /><path d=\"M 75.0,40.0 a15.0,15.0 0 0,1 -15.0,15.0\" fill=\"none\" stroke=\"#c65353\" stroke-width=\"2.0\" /><line stroke=\"#c65353\" stroke-width=\"2.0\" x1=\"35.0\" x2=\"60.0\" y1=\"55.0\" y2=\"55.0\" /><path d=\"M 35.0,80.0 a15.0,15.0 0 0,0 15.0,15.0\" fill=\"none\" stroke=\"#53c653\" stroke-width=\"2.0\" /><path d=\"M 55.0,80.0 a15.0,15.0 0 0,0 15.0,15.0\" fill=\"none\" stroke=\"#c6c653\" stroke-width=\"2.0\" /><line stroke=\"#53c653\" stroke-width=\"2.0\" x1=\"50.0\" x2=\"75.0\" y1=\"95.0\" y2=\"95.0\" /></g><g><circle cx=\"75.0\" cy=\"15.0\" fill=\"#c65353\" id=\"Nswitchvalue\" r=\"6.0\" stroke=\"black\" stroke-width=\"4\" /><text dominant-baseline=\"middle\" font-family=\"sans-serif\" font-size=\"inherit\" x=\"95.0\" y=\"15.0\">switch(value)</text><circle cx=\"55.0\" cy=\"35.0\" fill=\"#c6c653\" id=\"Ncase1\" r=\"6.0\" stroke=\"black\" stroke-width=\"4\" /><text dominant-baseline=\"middle\" font-family=\"sans-serif\" font-size=\"inherit\" x=\"95.0\" y=\"35.0\">case 1</text><circle cx=\"35.0\" cy=\"55.0\" fill=\"#53c653\" id=\"Ncase2\" r=\"6.0\" stroke=\"black\" stroke-width=\"4\" /><text dominant-baseline=\"middle\" font-family=\"sans-serif\" font-size=\"inherit\" x=\"95.0\" y=\"55.0\">case 2</text><circle cx=\"75.0\" cy=\"75.0\" fill=\"#53c6c6\" id=\"Ncase3\" r=\"6.0\" stroke=\"black\" stroke-width=\"4\" /><text dominant-baseline=\"middle\" font-family=\"sans-serif\" font-size=\"inherit\" x=\"95.0\" y=\"75.0\">case 3</text><circle cx=\"75.0\" cy=\"95.0\" fill=\"#5353c6\" id=\"Nend\" r=\"6.0\" stroke=\"black\" stroke-width=\"4\" /><text dominant-baseline=\"middle\" font-family=\"sans-serif\" font-size=\"inherit\" x=\"95.0\" y=\"95.0\">end</text></g></svg>"
      ],
      "text/plain": [
       "<IPython.core.display.HTML object>"
      ]
     },
     "execution_count": 8,
     "metadata": {},
     "output_type": "execute_result"
    }
   ],
   "source": [
    "HTML(render_svg(g, style=svg_renderer(StyleConfig(node_stroke=\"black\", node_stroke_width=4))))"
   ]
  },
  {
   "cell_type": "markdown",
   "id": "fe6a2989",
   "metadata": {},
   "source": [
    "## Edge stroke width\n",
    "The *edge stroke width* determines the width of the edges:"
   ]
  },
  {
   "cell_type": "code",
   "execution_count": 9,
   "id": "ff382751",
   "metadata": {},
   "outputs": [
    {
     "data": {
      "text/html": [
       "<svg baseProfile=\"full\" height=\"100%\" version=\"1.1\" viewBox=\"25.0,5.0,475.0,100.0\" width=\"100%\" xmlns=\"http://www.w3.org/2000/svg\" xmlns:ev=\"http://www.w3.org/2001/xml-events\" xmlns:xlink=\"http://www.w3.org/1999/xlink\"><defs /><g><line stroke=\"lightgrey\" stroke-dasharray=\"2\" x1=\"90.0\" x2=\"89.0\" y1=\"15.0\" y2=\"15.0\" /><line stroke=\"lightgrey\" stroke-dasharray=\"2\" x1=\"70.0\" x2=\"89.0\" y1=\"35.0\" y2=\"35.0\" /><line stroke=\"lightgrey\" stroke-dasharray=\"2\" x1=\"50.0\" x2=\"89.0\" y1=\"55.0\" y2=\"55.0\" /><line stroke=\"lightgrey\" stroke-dasharray=\"2\" x1=\"90.0\" x2=\"89.0\" y1=\"75.0\" y2=\"75.0\" /><line stroke=\"lightgrey\" stroke-dasharray=\"2\" x1=\"90.0\" x2=\"89.0\" y1=\"95.0\" y2=\"95.0\" /></g><g><line stroke=\"#c65353\" stroke-width=\"10\" x1=\"75.0\" x2=\"75.0\" y1=\"15.0\" y2=\"75.0\" /><line stroke=\"#53c653\" stroke-width=\"10\" x1=\"35.0\" x2=\"35.0\" y1=\"55.0\" y2=\"80.0\" /><line stroke=\"#c6c653\" stroke-width=\"10\" x1=\"55.0\" x2=\"55.0\" y1=\"35.0\" y2=\"80.0\" /><line stroke=\"#53c6c6\" stroke-width=\"10\" x1=\"75.0\" x2=\"75.0\" y1=\"75.0\" y2=\"95.0\" /></g><g><line stroke=\"white\" stroke-width=\"14.0\" x1=\"55.0\" x2=\"60.0\" y1=\"35.0\" y2=\"35.0\" /><line stroke=\"white\" stroke-width=\"14.0\" x1=\"35.0\" x2=\"60.0\" y1=\"55.0\" y2=\"55.0\" /><line stroke=\"white\" stroke-width=\"14.0\" x1=\"50.0\" x2=\"75.0\" y1=\"95.0\" y2=\"95.0\" /></g><g><path d=\"M 75.0,20.0 a15.0,15.0 0 0,1 -15.0,15.0\" fill=\"none\" stroke=\"#c65353\" stroke-width=\"10\" /><line stroke=\"#c65353\" stroke-width=\"10\" x1=\"55.0\" x2=\"60.0\" y1=\"35.0\" y2=\"35.0\" /><path d=\"M 75.0,40.0 a15.0,15.0 0 0,1 -15.0,15.0\" fill=\"none\" stroke=\"#c65353\" stroke-width=\"10\" /><line stroke=\"#c65353\" stroke-width=\"10\" x1=\"35.0\" x2=\"60.0\" y1=\"55.0\" y2=\"55.0\" /><path d=\"M 35.0,80.0 a15.0,15.0 0 0,0 15.0,15.0\" fill=\"none\" stroke=\"#53c653\" stroke-width=\"10\" /><path d=\"M 55.0,80.0 a15.0,15.0 0 0,0 15.0,15.0\" fill=\"none\" stroke=\"#c6c653\" stroke-width=\"10\" /><line stroke=\"#53c653\" stroke-width=\"10\" x1=\"50.0\" x2=\"75.0\" y1=\"95.0\" y2=\"95.0\" /></g><g><circle cx=\"75.0\" cy=\"15.0\" fill=\"black\" id=\"Nswitchvalue\" r=\"6.0\" stroke=\"white\" stroke-width=\"2.0\" /><text dominant-baseline=\"middle\" font-family=\"sans-serif\" font-size=\"inherit\" x=\"95.0\" y=\"15.0\">switch(value)</text><circle cx=\"55.0\" cy=\"35.0\" fill=\"black\" id=\"Ncase1\" r=\"6.0\" stroke=\"white\" stroke-width=\"2.0\" /><text dominant-baseline=\"middle\" font-family=\"sans-serif\" font-size=\"inherit\" x=\"95.0\" y=\"35.0\">case 1</text><circle cx=\"35.0\" cy=\"55.0\" fill=\"black\" id=\"Ncase2\" r=\"6.0\" stroke=\"white\" stroke-width=\"2.0\" /><text dominant-baseline=\"middle\" font-family=\"sans-serif\" font-size=\"inherit\" x=\"95.0\" y=\"55.0\">case 2</text><circle cx=\"75.0\" cy=\"75.0\" fill=\"black\" id=\"Ncase3\" r=\"6.0\" stroke=\"white\" stroke-width=\"2.0\" /><text dominant-baseline=\"middle\" font-family=\"sans-serif\" font-size=\"inherit\" x=\"95.0\" y=\"75.0\">case 3</text><circle cx=\"75.0\" cy=\"95.0\" fill=\"black\" id=\"Nend\" r=\"6.0\" stroke=\"white\" stroke-width=\"2.0\" /><text dominant-baseline=\"middle\" font-family=\"sans-serif\" font-size=\"inherit\" x=\"95.0\" y=\"95.0\">end</text></g></svg>"
      ],
      "text/plain": [
       "<IPython.core.display.HTML object>"
      ]
     },
     "execution_count": 9,
     "metadata": {},
     "output_type": "execute_result"
    }
   ],
   "source": [
    "HTML(render_svg(g, style=svg_renderer(StyleConfig(node_fill=\"black\", edge_stroke_width=10))))"
   ]
  },
  {
   "cell_type": "markdown",
   "id": "7c86da2c",
   "metadata": {},
   "source": [
    "## Label font family\n",
    "The default font family for labels is \"sans-serif\". This can be changes too:"
   ]
  },
  {
   "cell_type": "code",
   "execution_count": 10,
   "id": "9eca4a0d",
   "metadata": {},
   "outputs": [
    {
     "data": {
      "text/html": [
       "<svg baseProfile=\"full\" height=\"100%\" version=\"1.1\" viewBox=\"25.0,5.0,475.0,100.0\" width=\"100%\" xmlns=\"http://www.w3.org/2000/svg\" xmlns:ev=\"http://www.w3.org/2001/xml-events\" xmlns:xlink=\"http://www.w3.org/1999/xlink\"><defs /><g><line stroke=\"lightgrey\" stroke-dasharray=\"2\" x1=\"90.0\" x2=\"89.0\" y1=\"15.0\" y2=\"15.0\" /><line stroke=\"lightgrey\" stroke-dasharray=\"2\" x1=\"70.0\" x2=\"89.0\" y1=\"35.0\" y2=\"35.0\" /><line stroke=\"lightgrey\" stroke-dasharray=\"2\" x1=\"50.0\" x2=\"89.0\" y1=\"55.0\" y2=\"55.0\" /><line stroke=\"lightgrey\" stroke-dasharray=\"2\" x1=\"90.0\" x2=\"89.0\" y1=\"75.0\" y2=\"75.0\" /><line stroke=\"lightgrey\" stroke-dasharray=\"2\" x1=\"90.0\" x2=\"89.0\" y1=\"95.0\" y2=\"95.0\" /></g><g><line stroke=\"#c65353\" stroke-width=\"2.0\" x1=\"75.0\" x2=\"75.0\" y1=\"15.0\" y2=\"75.0\" /><line stroke=\"#53c653\" stroke-width=\"2.0\" x1=\"35.0\" x2=\"35.0\" y1=\"55.0\" y2=\"80.0\" /><line stroke=\"#c6c653\" stroke-width=\"2.0\" x1=\"55.0\" x2=\"55.0\" y1=\"35.0\" y2=\"80.0\" /><line stroke=\"#53c6c6\" stroke-width=\"2.0\" x1=\"75.0\" x2=\"75.0\" y1=\"75.0\" y2=\"95.0\" /></g><g><line stroke=\"white\" stroke-width=\"6.0\" x1=\"55.0\" x2=\"60.0\" y1=\"35.0\" y2=\"35.0\" /><line stroke=\"white\" stroke-width=\"6.0\" x1=\"35.0\" x2=\"60.0\" y1=\"55.0\" y2=\"55.0\" /><line stroke=\"white\" stroke-width=\"6.0\" x1=\"50.0\" x2=\"75.0\" y1=\"95.0\" y2=\"95.0\" /></g><g><path d=\"M 75.0,20.0 a15.0,15.0 0 0,1 -15.0,15.0\" fill=\"none\" stroke=\"#c65353\" stroke-width=\"2.0\" /><line stroke=\"#c65353\" stroke-width=\"2.0\" x1=\"55.0\" x2=\"60.0\" y1=\"35.0\" y2=\"35.0\" /><path d=\"M 75.0,40.0 a15.0,15.0 0 0,1 -15.0,15.0\" fill=\"none\" stroke=\"#c65353\" stroke-width=\"2.0\" /><line stroke=\"#c65353\" stroke-width=\"2.0\" x1=\"35.0\" x2=\"60.0\" y1=\"55.0\" y2=\"55.0\" /><path d=\"M 35.0,80.0 a15.0,15.0 0 0,0 15.0,15.0\" fill=\"none\" stroke=\"#53c653\" stroke-width=\"2.0\" /><path d=\"M 55.0,80.0 a15.0,15.0 0 0,0 15.0,15.0\" fill=\"none\" stroke=\"#c6c653\" stroke-width=\"2.0\" /><line stroke=\"#53c653\" stroke-width=\"2.0\" x1=\"50.0\" x2=\"75.0\" y1=\"95.0\" y2=\"95.0\" /></g><g><circle cx=\"75.0\" cy=\"15.0\" fill=\"#c65353\" id=\"Nswitchvalue\" r=\"6.0\" stroke=\"white\" stroke-width=\"2.0\" /><text dominant-baseline=\"middle\" font-family=\"serif\" font-size=\"inherit\" x=\"95.0\" y=\"15.0\">switch(value)</text><circle cx=\"55.0\" cy=\"35.0\" fill=\"#c6c653\" id=\"Ncase1\" r=\"6.0\" stroke=\"white\" stroke-width=\"2.0\" /><text dominant-baseline=\"middle\" font-family=\"serif\" font-size=\"inherit\" x=\"95.0\" y=\"35.0\">case 1</text><circle cx=\"35.0\" cy=\"55.0\" fill=\"#53c653\" id=\"Ncase2\" r=\"6.0\" stroke=\"white\" stroke-width=\"2.0\" /><text dominant-baseline=\"middle\" font-family=\"serif\" font-size=\"inherit\" x=\"95.0\" y=\"55.0\">case 2</text><circle cx=\"75.0\" cy=\"75.0\" fill=\"#53c6c6\" id=\"Ncase3\" r=\"6.0\" stroke=\"white\" stroke-width=\"2.0\" /><text dominant-baseline=\"middle\" font-family=\"serif\" font-size=\"inherit\" x=\"95.0\" y=\"75.0\">case 3</text><circle cx=\"75.0\" cy=\"95.0\" fill=\"#5353c6\" id=\"Nend\" r=\"6.0\" stroke=\"white\" stroke-width=\"2.0\" /><text dominant-baseline=\"middle\" font-family=\"serif\" font-size=\"inherit\" x=\"95.0\" y=\"95.0\">end</text></g></svg>"
      ],
      "text/plain": [
       "<IPython.core.display.HTML object>"
      ]
     },
     "execution_count": 10,
     "metadata": {},
     "output_type": "execute_result"
    }
   ],
   "source": [
    "HTML(render_svg(g, style=svg_renderer(StyleConfig(label_font_family=\"serif\"))))"
   ]
  },
  {
   "cell_type": "markdown",
   "id": "dc18f7b2",
   "metadata": {},
   "source": [
    "# Label font size\n",
    "\n",
    "The font size of the label can be changed as follows:"
   ]
  },
  {
   "cell_type": "code",
   "execution_count": 11,
   "id": "82f92872",
   "metadata": {},
   "outputs": [
    {
     "data": {
      "text/html": [
       "<svg baseProfile=\"full\" height=\"100%\" version=\"1.1\" viewBox=\"25.0,5.0,475.0,100.0\" width=\"100%\" xmlns=\"http://www.w3.org/2000/svg\" xmlns:ev=\"http://www.w3.org/2001/xml-events\" xmlns:xlink=\"http://www.w3.org/1999/xlink\"><defs /><g><line stroke=\"lightgrey\" stroke-dasharray=\"2\" x1=\"90.0\" x2=\"89.0\" y1=\"15.0\" y2=\"15.0\" /><line stroke=\"lightgrey\" stroke-dasharray=\"2\" x1=\"70.0\" x2=\"89.0\" y1=\"35.0\" y2=\"35.0\" /><line stroke=\"lightgrey\" stroke-dasharray=\"2\" x1=\"50.0\" x2=\"89.0\" y1=\"55.0\" y2=\"55.0\" /><line stroke=\"lightgrey\" stroke-dasharray=\"2\" x1=\"90.0\" x2=\"89.0\" y1=\"75.0\" y2=\"75.0\" /><line stroke=\"lightgrey\" stroke-dasharray=\"2\" x1=\"90.0\" x2=\"89.0\" y1=\"95.0\" y2=\"95.0\" /></g><g><line stroke=\"#c65353\" stroke-width=\"2.0\" x1=\"75.0\" x2=\"75.0\" y1=\"15.0\" y2=\"75.0\" /><line stroke=\"#53c653\" stroke-width=\"2.0\" x1=\"35.0\" x2=\"35.0\" y1=\"55.0\" y2=\"80.0\" /><line stroke=\"#c6c653\" stroke-width=\"2.0\" x1=\"55.0\" x2=\"55.0\" y1=\"35.0\" y2=\"80.0\" /><line stroke=\"#53c6c6\" stroke-width=\"2.0\" x1=\"75.0\" x2=\"75.0\" y1=\"75.0\" y2=\"95.0\" /></g><g><line stroke=\"white\" stroke-width=\"6.0\" x1=\"55.0\" x2=\"60.0\" y1=\"35.0\" y2=\"35.0\" /><line stroke=\"white\" stroke-width=\"6.0\" x1=\"35.0\" x2=\"60.0\" y1=\"55.0\" y2=\"55.0\" /><line stroke=\"white\" stroke-width=\"6.0\" x1=\"50.0\" x2=\"75.0\" y1=\"95.0\" y2=\"95.0\" /></g><g><path d=\"M 75.0,20.0 a15.0,15.0 0 0,1 -15.0,15.0\" fill=\"none\" stroke=\"#c65353\" stroke-width=\"2.0\" /><line stroke=\"#c65353\" stroke-width=\"2.0\" x1=\"55.0\" x2=\"60.0\" y1=\"35.0\" y2=\"35.0\" /><path d=\"M 75.0,40.0 a15.0,15.0 0 0,1 -15.0,15.0\" fill=\"none\" stroke=\"#c65353\" stroke-width=\"2.0\" /><line stroke=\"#c65353\" stroke-width=\"2.0\" x1=\"35.0\" x2=\"60.0\" y1=\"55.0\" y2=\"55.0\" /><path d=\"M 35.0,80.0 a15.0,15.0 0 0,0 15.0,15.0\" fill=\"none\" stroke=\"#53c653\" stroke-width=\"2.0\" /><path d=\"M 55.0,80.0 a15.0,15.0 0 0,0 15.0,15.0\" fill=\"none\" stroke=\"#c6c653\" stroke-width=\"2.0\" /><line stroke=\"#53c653\" stroke-width=\"2.0\" x1=\"50.0\" x2=\"75.0\" y1=\"95.0\" y2=\"95.0\" /></g><g><circle cx=\"75.0\" cy=\"15.0\" fill=\"#c65353\" id=\"Nswitchvalue\" r=\"6.0\" stroke=\"white\" stroke-width=\"2.0\" /><text dominant-baseline=\"middle\" font-family=\"sans-serif\" font-size=\"20\" x=\"95.0\" y=\"15.0\">switch(value)</text><circle cx=\"55.0\" cy=\"35.0\" fill=\"#c6c653\" id=\"Ncase1\" r=\"6.0\" stroke=\"white\" stroke-width=\"2.0\" /><text dominant-baseline=\"middle\" font-family=\"sans-serif\" font-size=\"20\" x=\"95.0\" y=\"35.0\">case 1</text><circle cx=\"35.0\" cy=\"55.0\" fill=\"#53c653\" id=\"Ncase2\" r=\"6.0\" stroke=\"white\" stroke-width=\"2.0\" /><text dominant-baseline=\"middle\" font-family=\"sans-serif\" font-size=\"20\" x=\"95.0\" y=\"55.0\">case 2</text><circle cx=\"75.0\" cy=\"75.0\" fill=\"#53c6c6\" id=\"Ncase3\" r=\"6.0\" stroke=\"white\" stroke-width=\"2.0\" /><text dominant-baseline=\"middle\" font-family=\"sans-serif\" font-size=\"20\" x=\"95.0\" y=\"75.0\">case 3</text><circle cx=\"75.0\" cy=\"95.0\" fill=\"#5353c6\" id=\"Nend\" r=\"6.0\" stroke=\"white\" stroke-width=\"2.0\" /><text dominant-baseline=\"middle\" font-family=\"sans-serif\" font-size=\"20\" x=\"95.0\" y=\"95.0\">end</text></g></svg>"
      ],
      "text/plain": [
       "<IPython.core.display.HTML object>"
      ]
     },
     "execution_count": 11,
     "metadata": {},
     "output_type": "execute_result"
    }
   ],
   "source": [
    "HTML(render_svg(g, style=svg_renderer(StyleConfig(label_font_size=20))))"
   ]
  },
  {
   "cell_type": "markdown",
   "id": "2defe988",
   "metadata": {},
   "source": [
    "## Label arrow stroke\n",
    "The *label arrow stroke* determines the color of the line from node to label:"
   ]
  },
  {
   "cell_type": "code",
   "execution_count": 12,
   "id": "9aadbe3d",
   "metadata": {},
   "outputs": [
    {
     "data": {
      "text/html": [
       "<svg baseProfile=\"full\" height=\"100%\" version=\"1.1\" viewBox=\"25.0,5.0,475.0,100.0\" width=\"100%\" xmlns=\"http://www.w3.org/2000/svg\" xmlns:ev=\"http://www.w3.org/2001/xml-events\" xmlns:xlink=\"http://www.w3.org/1999/xlink\"><defs /><g><line stroke=\"black\" stroke-dasharray=\"2\" x1=\"90.0\" x2=\"89.0\" y1=\"15.0\" y2=\"15.0\" /><line stroke=\"black\" stroke-dasharray=\"2\" x1=\"70.0\" x2=\"89.0\" y1=\"35.0\" y2=\"35.0\" /><line stroke=\"black\" stroke-dasharray=\"2\" x1=\"50.0\" x2=\"89.0\" y1=\"55.0\" y2=\"55.0\" /><line stroke=\"black\" stroke-dasharray=\"2\" x1=\"90.0\" x2=\"89.0\" y1=\"75.0\" y2=\"75.0\" /><line stroke=\"black\" stroke-dasharray=\"2\" x1=\"90.0\" x2=\"89.0\" y1=\"95.0\" y2=\"95.0\" /></g><g><line stroke=\"#c65353\" stroke-width=\"2.0\" x1=\"75.0\" x2=\"75.0\" y1=\"15.0\" y2=\"75.0\" /><line stroke=\"#53c653\" stroke-width=\"2.0\" x1=\"35.0\" x2=\"35.0\" y1=\"55.0\" y2=\"80.0\" /><line stroke=\"#c6c653\" stroke-width=\"2.0\" x1=\"55.0\" x2=\"55.0\" y1=\"35.0\" y2=\"80.0\" /><line stroke=\"#53c6c6\" stroke-width=\"2.0\" x1=\"75.0\" x2=\"75.0\" y1=\"75.0\" y2=\"95.0\" /></g><g><line stroke=\"white\" stroke-width=\"6.0\" x1=\"55.0\" x2=\"60.0\" y1=\"35.0\" y2=\"35.0\" /><line stroke=\"white\" stroke-width=\"6.0\" x1=\"35.0\" x2=\"60.0\" y1=\"55.0\" y2=\"55.0\" /><line stroke=\"white\" stroke-width=\"6.0\" x1=\"50.0\" x2=\"75.0\" y1=\"95.0\" y2=\"95.0\" /></g><g><path d=\"M 75.0,20.0 a15.0,15.0 0 0,1 -15.0,15.0\" fill=\"none\" stroke=\"#c65353\" stroke-width=\"2.0\" /><line stroke=\"#c65353\" stroke-width=\"2.0\" x1=\"55.0\" x2=\"60.0\" y1=\"35.0\" y2=\"35.0\" /><path d=\"M 75.0,40.0 a15.0,15.0 0 0,1 -15.0,15.0\" fill=\"none\" stroke=\"#c65353\" stroke-width=\"2.0\" /><line stroke=\"#c65353\" stroke-width=\"2.0\" x1=\"35.0\" x2=\"60.0\" y1=\"55.0\" y2=\"55.0\" /><path d=\"M 35.0,80.0 a15.0,15.0 0 0,0 15.0,15.0\" fill=\"none\" stroke=\"#53c653\" stroke-width=\"2.0\" /><path d=\"M 55.0,80.0 a15.0,15.0 0 0,0 15.0,15.0\" fill=\"none\" stroke=\"#c6c653\" stroke-width=\"2.0\" /><line stroke=\"#53c653\" stroke-width=\"2.0\" x1=\"50.0\" x2=\"75.0\" y1=\"95.0\" y2=\"95.0\" /></g><g><circle cx=\"75.0\" cy=\"15.0\" fill=\"#c65353\" id=\"Nswitchvalue\" r=\"6.0\" stroke=\"white\" stroke-width=\"2.0\" /><text dominant-baseline=\"middle\" font-family=\"sans-serif\" font-size=\"inherit\" x=\"95.0\" y=\"15.0\">switch(value)</text><circle cx=\"55.0\" cy=\"35.0\" fill=\"#c6c653\" id=\"Ncase1\" r=\"6.0\" stroke=\"white\" stroke-width=\"2.0\" /><text dominant-baseline=\"middle\" font-family=\"sans-serif\" font-size=\"inherit\" x=\"95.0\" y=\"35.0\">case 1</text><circle cx=\"35.0\" cy=\"55.0\" fill=\"#53c653\" id=\"Ncase2\" r=\"6.0\" stroke=\"white\" stroke-width=\"2.0\" /><text dominant-baseline=\"middle\" font-family=\"sans-serif\" font-size=\"inherit\" x=\"95.0\" y=\"55.0\">case 2</text><circle cx=\"75.0\" cy=\"75.0\" fill=\"#53c6c6\" id=\"Ncase3\" r=\"6.0\" stroke=\"white\" stroke-width=\"2.0\" /><text dominant-baseline=\"middle\" font-family=\"sans-serif\" font-size=\"inherit\" x=\"95.0\" y=\"75.0\">case 3</text><circle cx=\"75.0\" cy=\"95.0\" fill=\"#5353c6\" id=\"Nend\" r=\"6.0\" stroke=\"white\" stroke-width=\"2.0\" /><text dominant-baseline=\"middle\" font-family=\"sans-serif\" font-size=\"inherit\" x=\"95.0\" y=\"95.0\">end</text></g></svg>"
      ],
      "text/plain": [
       "<IPython.core.display.HTML object>"
      ]
     },
     "execution_count": 12,
     "metadata": {},
     "output_type": "execute_result"
    }
   ],
   "source": [
    "HTML(render_svg(g, style=svg_renderer(StyleConfig(label_arrow_stroke=\"black\"))))"
   ]
  },
  {
   "cell_type": "markdown",
   "id": "b6a71510",
   "metadata": {},
   "source": [
    "## Label arrow dash array\n",
    "The *label arrow dash array* determines how the label arrow is dashed:"
   ]
  },
  {
   "cell_type": "code",
   "execution_count": 13,
   "id": "32069028",
   "metadata": {},
   "outputs": [
    {
     "data": {
      "text/html": [
       "<svg baseProfile=\"full\" height=\"100%\" version=\"1.1\" viewBox=\"25.0,5.0,475.0,100.0\" width=\"100%\" xmlns=\"http://www.w3.org/2000/svg\" xmlns:ev=\"http://www.w3.org/2001/xml-events\" xmlns:xlink=\"http://www.w3.org/1999/xlink\"><defs /><g><line stroke=\"lightgrey\" stroke-dasharray=\"0\" x1=\"90.0\" x2=\"89.0\" y1=\"15.0\" y2=\"15.0\" /><line stroke=\"lightgrey\" stroke-dasharray=\"0\" x1=\"70.0\" x2=\"89.0\" y1=\"35.0\" y2=\"35.0\" /><line stroke=\"lightgrey\" stroke-dasharray=\"0\" x1=\"50.0\" x2=\"89.0\" y1=\"55.0\" y2=\"55.0\" /><line stroke=\"lightgrey\" stroke-dasharray=\"0\" x1=\"90.0\" x2=\"89.0\" y1=\"75.0\" y2=\"75.0\" /><line stroke=\"lightgrey\" stroke-dasharray=\"0\" x1=\"90.0\" x2=\"89.0\" y1=\"95.0\" y2=\"95.0\" /></g><g><line stroke=\"#c65353\" stroke-width=\"2.0\" x1=\"75.0\" x2=\"75.0\" y1=\"15.0\" y2=\"75.0\" /><line stroke=\"#53c653\" stroke-width=\"2.0\" x1=\"35.0\" x2=\"35.0\" y1=\"55.0\" y2=\"80.0\" /><line stroke=\"#c6c653\" stroke-width=\"2.0\" x1=\"55.0\" x2=\"55.0\" y1=\"35.0\" y2=\"80.0\" /><line stroke=\"#53c6c6\" stroke-width=\"2.0\" x1=\"75.0\" x2=\"75.0\" y1=\"75.0\" y2=\"95.0\" /></g><g><line stroke=\"white\" stroke-width=\"6.0\" x1=\"55.0\" x2=\"60.0\" y1=\"35.0\" y2=\"35.0\" /><line stroke=\"white\" stroke-width=\"6.0\" x1=\"35.0\" x2=\"60.0\" y1=\"55.0\" y2=\"55.0\" /><line stroke=\"white\" stroke-width=\"6.0\" x1=\"50.0\" x2=\"75.0\" y1=\"95.0\" y2=\"95.0\" /></g><g><path d=\"M 75.0,20.0 a15.0,15.0 0 0,1 -15.0,15.0\" fill=\"none\" stroke=\"#c65353\" stroke-width=\"2.0\" /><line stroke=\"#c65353\" stroke-width=\"2.0\" x1=\"55.0\" x2=\"60.0\" y1=\"35.0\" y2=\"35.0\" /><path d=\"M 75.0,40.0 a15.0,15.0 0 0,1 -15.0,15.0\" fill=\"none\" stroke=\"#c65353\" stroke-width=\"2.0\" /><line stroke=\"#c65353\" stroke-width=\"2.0\" x1=\"35.0\" x2=\"60.0\" y1=\"55.0\" y2=\"55.0\" /><path d=\"M 35.0,80.0 a15.0,15.0 0 0,0 15.0,15.0\" fill=\"none\" stroke=\"#53c653\" stroke-width=\"2.0\" /><path d=\"M 55.0,80.0 a15.0,15.0 0 0,0 15.0,15.0\" fill=\"none\" stroke=\"#c6c653\" stroke-width=\"2.0\" /><line stroke=\"#53c653\" stroke-width=\"2.0\" x1=\"50.0\" x2=\"75.0\" y1=\"95.0\" y2=\"95.0\" /></g><g><circle cx=\"75.0\" cy=\"15.0\" fill=\"#c65353\" id=\"Nswitchvalue\" r=\"6.0\" stroke=\"white\" stroke-width=\"2.0\" /><text dominant-baseline=\"middle\" font-family=\"sans-serif\" font-size=\"inherit\" x=\"95.0\" y=\"15.0\">switch(value)</text><circle cx=\"55.0\" cy=\"35.0\" fill=\"#c6c653\" id=\"Ncase1\" r=\"6.0\" stroke=\"white\" stroke-width=\"2.0\" /><text dominant-baseline=\"middle\" font-family=\"sans-serif\" font-size=\"inherit\" x=\"95.0\" y=\"35.0\">case 1</text><circle cx=\"35.0\" cy=\"55.0\" fill=\"#53c653\" id=\"Ncase2\" r=\"6.0\" stroke=\"white\" stroke-width=\"2.0\" /><text dominant-baseline=\"middle\" font-family=\"sans-serif\" font-size=\"inherit\" x=\"95.0\" y=\"55.0\">case 2</text><circle cx=\"75.0\" cy=\"75.0\" fill=\"#53c6c6\" id=\"Ncase3\" r=\"6.0\" stroke=\"white\" stroke-width=\"2.0\" /><text dominant-baseline=\"middle\" font-family=\"sans-serif\" font-size=\"inherit\" x=\"95.0\" y=\"75.0\">case 3</text><circle cx=\"75.0\" cy=\"95.0\" fill=\"#5353c6\" id=\"Nend\" r=\"6.0\" stroke=\"white\" stroke-width=\"2.0\" /><text dominant-baseline=\"middle\" font-family=\"sans-serif\" font-size=\"inherit\" x=\"95.0\" y=\"95.0\">end</text></g></svg>"
      ],
      "text/plain": [
       "<IPython.core.display.HTML object>"
      ]
     },
     "execution_count": 13,
     "metadata": {},
     "output_type": "execute_result"
    }
   ],
   "source": [
    "HTML(render_svg(g, style=svg_renderer(StyleConfig(label_arrow_dash_array=\"0\"))))"
   ]
  },
  {
   "cell_type": "markdown",
   "id": "65122918",
   "metadata": {},
   "source": [
    "## Arc radius\n",
    "The *arc radius* determines the radius of the arc from vertical line to a node:"
   ]
  },
  {
   "cell_type": "code",
   "execution_count": 14,
   "id": "2996e2f1",
   "metadata": {},
   "outputs": [
    {
     "data": {
      "text/html": [
       "<svg baseProfile=\"full\" height=\"100%\" version=\"1.1\" viewBox=\"15.0,-5.0,485.0,100.0\" width=\"100%\" xmlns=\"http://www.w3.org/2000/svg\" xmlns:ev=\"http://www.w3.org/2001/xml-events\" xmlns:xlink=\"http://www.w3.org/1999/xlink\"><defs /><g><line stroke=\"lightgrey\" stroke-dasharray=\"2\" x1=\"70.0\" x2=\"83.0\" y1=\"5.0\" y2=\"5.0\" /><line stroke=\"lightgrey\" stroke-dasharray=\"2\" x1=\"50.0\" x2=\"83.0\" y1=\"25.0\" y2=\"25.0\" /><line stroke=\"lightgrey\" stroke-dasharray=\"2\" x1=\"30.0\" x2=\"83.0\" y1=\"45.0\" y2=\"45.0\" /><line stroke=\"lightgrey\" stroke-dasharray=\"2\" x1=\"70.0\" x2=\"83.0\" y1=\"65.0\" y2=\"65.0\" /><line stroke=\"lightgrey\" stroke-dasharray=\"2\" x1=\"70.0\" x2=\"83.0\" y1=\"85.0\" y2=\"85.0\" /></g><g><line stroke=\"#c65353\" stroke-width=\"2.0\" x1=\"65.0\" x2=\"65.0\" y1=\"5.0\" y2=\"65.0\" /><line stroke=\"#53c653\" stroke-width=\"2.0\" x1=\"25.0\" x2=\"25.0\" y1=\"45.0\" y2=\"80.0\" /><line stroke=\"#c6c653\" stroke-width=\"2.0\" x1=\"45.0\" x2=\"45.0\" y1=\"25.0\" y2=\"80.0\" /><line stroke=\"#53c6c6\" stroke-width=\"2.0\" x1=\"65.0\" x2=\"65.0\" y1=\"65.0\" y2=\"85.0\" /></g><g><line stroke=\"white\" stroke-width=\"6.0\" x1=\"45.0\" x2=\"60.0\" y1=\"25.0\" y2=\"25.0\" /><line stroke=\"white\" stroke-width=\"6.0\" x1=\"25.0\" x2=\"60.0\" y1=\"45.0\" y2=\"45.0\" /><line stroke=\"white\" stroke-width=\"6.0\" x1=\"30.0\" x2=\"65.0\" y1=\"85.0\" y2=\"85.0\" /></g><g><path d=\"M 65.0,20.0 a5,5 0 0,1 -5.0,5.0\" fill=\"none\" stroke=\"#c65353\" stroke-width=\"2.0\" /><line stroke=\"#c65353\" stroke-width=\"2.0\" x1=\"45.0\" x2=\"60.0\" y1=\"25.0\" y2=\"25.0\" /><path d=\"M 65.0,40.0 a5,5 0 0,1 -5.0,5.0\" fill=\"none\" stroke=\"#c65353\" stroke-width=\"2.0\" /><line stroke=\"#c65353\" stroke-width=\"2.0\" x1=\"25.0\" x2=\"60.0\" y1=\"45.0\" y2=\"45.0\" /><path d=\"M 25.0,80.0 a5,5 0 0,0 5.0,5.0\" fill=\"none\" stroke=\"#53c653\" stroke-width=\"2.0\" /><path d=\"M 45.0,80.0 a5,5 0 0,0 5.0,5.0\" fill=\"none\" stroke=\"#c6c653\" stroke-width=\"2.0\" /><line stroke=\"#53c653\" stroke-width=\"2.0\" x1=\"30.0\" x2=\"65.0\" y1=\"85.0\" y2=\"85.0\" /></g><g><circle cx=\"65.0\" cy=\"5.0\" fill=\"#c65353\" id=\"Nswitchvalue\" r=\"6.0\" stroke=\"white\" stroke-width=\"2.0\" /><text dominant-baseline=\"middle\" font-family=\"sans-serif\" font-size=\"inherit\" x=\"85.0\" y=\"5.0\">switch(value)</text><circle cx=\"45.0\" cy=\"25.0\" fill=\"#c6c653\" id=\"Ncase1\" r=\"6.0\" stroke=\"white\" stroke-width=\"2.0\" /><text dominant-baseline=\"middle\" font-family=\"sans-serif\" font-size=\"inherit\" x=\"85.0\" y=\"25.0\">case 1</text><circle cx=\"25.0\" cy=\"45.0\" fill=\"#53c653\" id=\"Ncase2\" r=\"6.0\" stroke=\"white\" stroke-width=\"2.0\" /><text dominant-baseline=\"middle\" font-family=\"sans-serif\" font-size=\"inherit\" x=\"85.0\" y=\"45.0\">case 2</text><circle cx=\"65.0\" cy=\"65.0\" fill=\"#53c6c6\" id=\"Ncase3\" r=\"6.0\" stroke=\"white\" stroke-width=\"2.0\" /><text dominant-baseline=\"middle\" font-family=\"sans-serif\" font-size=\"inherit\" x=\"85.0\" y=\"65.0\">case 3</text><circle cx=\"65.0\" cy=\"85.0\" fill=\"#5353c6\" id=\"Nend\" r=\"6.0\" stroke=\"white\" stroke-width=\"2.0\" /><text dominant-baseline=\"middle\" font-family=\"sans-serif\" font-size=\"inherit\" x=\"85.0\" y=\"85.0\">end</text></g></svg>"
      ],
      "text/plain": [
       "<IPython.core.display.HTML object>"
      ]
     },
     "execution_count": 14,
     "metadata": {},
     "output_type": "execute_result"
    }
   ],
   "source": [
    "HTML(render_svg(g, style=svg_renderer(StyleConfig(arc_radius=5))))"
   ]
  },
  {
   "cell_type": "code",
   "execution_count": null,
   "id": "f84d824f",
   "metadata": {},
   "outputs": [],
   "source": []
  }
 ],
 "metadata": {
  "kernelspec": {
   "display_name": "Python 3",
   "language": "python",
   "name": "python3"
  },
  "language_info": {
   "codemirror_mode": {
    "name": "ipython",
    "version": 3
   },
   "file_extension": ".py",
   "mimetype": "text/x-python",
   "name": "python",
   "nbconvert_exporter": "python",
   "pygments_lexer": "ipython3",
   "version": "3.7.1"
  }
 },
 "nbformat": 4,
 "nbformat_minor": 5
}
